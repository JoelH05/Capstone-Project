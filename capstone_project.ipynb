{
 "cells": [
  {
   "cell_type": "markdown",
   "metadata": {
    "_uuid": "ccef76527bad8af1f4a0847714657d68a222cb7d"
   },
   "source": [
    "## Udacity Machine Learning Nanodegree Capstone Project ##\n",
    "\n",
    "**Elo Merchant Category Recommendation**\n",
    "\n",
    "The challenge is to develop a model that will predict a *loyalty score* for each customer represented in the **test.csv**.\n",
    "\n",
    "The flow of the project will be in the following manner:\n",
    "* Exploring the Data\n",
    "* Data preprocessing/cleaning\n",
    "* Evaluate Algorithm\n",
    "* Model tuning to improve results\n",
    "* Final conclusion"
   ]
  },
  {
   "cell_type": "markdown",
   "metadata": {
    "_uuid": "3f6d91a2578c5634efdd3b3659e1aee4f798ff2c"
   },
   "source": [
    "### Exploring the data ###\n",
    "\n",
    "**1.1 Loading Libraries and Data**"
   ]
  },
  {
   "cell_type": "code",
   "execution_count": 1,
   "metadata": {
    "_cell_guid": "79c7e3d0-c299-4dcb-8224-4455121ee9b0",
    "_uuid": "d629ff2d2480ee46fbb7e2d37f6b5fab8052498a"
   },
   "outputs": [
    {
     "name": "stderr",
     "output_type": "stream",
     "text": [
      "/Users/joelholla/anaconda/envs/pythonb/lib/python3.6/site-packages/lightgbm/__init__.py:46: UserWarning: Starting from version 2.2.1, the library file in distribution wheels for macOS is built by the Apple Clang (Xcode_9.4.1) compiler.\n",
      "This means that in case of installing LightGBM from PyPI via the ``pip install lightgbm`` command, you don't need to install the gcc compiler anymore.\n",
      "Instead of that, you need to install the OpenMP library, which is required for running LightGBM on the system with the Apple Clang compiler.\n",
      "You can install the OpenMP library by the following command: ``brew install libomp``.\n",
      "  \"You can install the OpenMP library by the following command: ``brew install libomp``.\", UserWarning)\n"
     ]
    }
   ],
   "source": [
    "# Importing neccessary libraries\n",
    "\n",
    "import os\n",
    "import numpy as np\n",
    "import pandas as pd\n",
    "import matplotlib.pyplot as plt\n",
    "import seaborn as sns\n",
    "color = sns.color_palette\n",
    "import datetime\n",
    "import lightgbm as lgb\n",
    "from sklearn.model_selection import KFold\n",
    "from sklearn.metrics import mean_squared_error\n",
    "import xgboost as xgb\n",
    "import time\n",
    "from sklearn.linear_model import Ridge\n",
    "from sklearn.linear_model import LinearRegression\n",
    "import gc\n",
    "import warnings\n",
    "from bayes_opt import BayesianOptimization\n",
    "\n",
    "# Pretty display for notebooks\n",
    "\n",
    "%matplotlib inline"
   ]
  },
  {
   "cell_type": "code",
   "execution_count": 2,
   "metadata": {
    "_kg_hide-input": true,
    "_kg_hide-output": true,
    "_uuid": "9058e8ea684bb37e0bf3e0ee0496712784b8a286"
   },
   "outputs": [],
   "source": [
    "# Loading all the datasets\n",
    "\n",
    "historical_trans = pd.read_csv('historical_transactions.csv')\n",
    "new_merchant_trans = pd.read_csv('new_merchant_transactions.csv')\n",
    "merchants = pd.read_csv('merchants.csv')\n",
    "\n",
    "# Loading the training and testing sets\n",
    "\n",
    "training_set = pd.read_csv('train.csv')\n",
    "test_set = pd.read_csv('test.csv')"
   ]
  },
  {
   "cell_type": "code",
   "execution_count": 3,
   "metadata": {
    "_uuid": "c3c7d7e6995bdcff42d3ac8d51f1e05be9ec7e9b"
   },
   "outputs": [],
   "source": [
    "data_dict_training = pd.read_excel('Data_Dictionary.xlsx', sheet_name = 'train')\n",
    "data_dict_hist_trans = pd.read_excel('Data_Dictionary.xlsx', sheet_name = 'history')\n",
    "data_dict_new_merchant_trans = pd.read_excel('Data_Dictionary.xlsx', sheet_name = 'new_merchant_period')\n",
    "data_dict_merchants = pd.read_excel('Data_Dictionary.xlsx', sheet_name = 'merchant')"
   ]
  },
  {
   "cell_type": "markdown",
   "metadata": {
    "_uuid": "2b166d79b3f54702d8b7b272ab18b2eedc78e901"
   },
   "source": [
    "**1.2  Explore the training data and test data**"
   ]
  },
  {
   "cell_type": "code",
   "execution_count": 4,
   "metadata": {
    "_uuid": "1f883c0ec0901acdecb23baaf299742288a074ca"
   },
   "outputs": [
    {
     "data": {
      "text/html": [
       "<div>\n",
       "<style scoped>\n",
       "    .dataframe tbody tr th:only-of-type {\n",
       "        vertical-align: middle;\n",
       "    }\n",
       "\n",
       "    .dataframe tbody tr th {\n",
       "        vertical-align: top;\n",
       "    }\n",
       "\n",
       "    .dataframe thead th {\n",
       "        text-align: right;\n",
       "    }\n",
       "</style>\n",
       "<table border=\"1\" class=\"dataframe\">\n",
       "  <thead>\n",
       "    <tr style=\"text-align: right;\">\n",
       "      <th></th>\n",
       "      <th>first_active_month</th>\n",
       "      <th>card_id</th>\n",
       "      <th>feature_1</th>\n",
       "      <th>feature_2</th>\n",
       "      <th>feature_3</th>\n",
       "      <th>target</th>\n",
       "    </tr>\n",
       "  </thead>\n",
       "  <tbody>\n",
       "    <tr>\n",
       "      <th>0</th>\n",
       "      <td>2017-06</td>\n",
       "      <td>C_ID_92a2005557</td>\n",
       "      <td>5</td>\n",
       "      <td>2</td>\n",
       "      <td>1</td>\n",
       "      <td>-0.820283</td>\n",
       "    </tr>\n",
       "    <tr>\n",
       "      <th>1</th>\n",
       "      <td>2017-01</td>\n",
       "      <td>C_ID_3d0044924f</td>\n",
       "      <td>4</td>\n",
       "      <td>1</td>\n",
       "      <td>0</td>\n",
       "      <td>0.392913</td>\n",
       "    </tr>\n",
       "    <tr>\n",
       "      <th>2</th>\n",
       "      <td>2016-08</td>\n",
       "      <td>C_ID_d639edf6cd</td>\n",
       "      <td>2</td>\n",
       "      <td>2</td>\n",
       "      <td>0</td>\n",
       "      <td>0.688056</td>\n",
       "    </tr>\n",
       "    <tr>\n",
       "      <th>3</th>\n",
       "      <td>2017-09</td>\n",
       "      <td>C_ID_186d6a6901</td>\n",
       "      <td>4</td>\n",
       "      <td>3</td>\n",
       "      <td>0</td>\n",
       "      <td>0.142495</td>\n",
       "    </tr>\n",
       "    <tr>\n",
       "      <th>4</th>\n",
       "      <td>2017-11</td>\n",
       "      <td>C_ID_cdbd2c0db2</td>\n",
       "      <td>1</td>\n",
       "      <td>3</td>\n",
       "      <td>0</td>\n",
       "      <td>-0.159749</td>\n",
       "    </tr>\n",
       "  </tbody>\n",
       "</table>\n",
       "</div>"
      ],
      "text/plain": [
       "  first_active_month          card_id  feature_1  feature_2  feature_3  \\\n",
       "0            2017-06  C_ID_92a2005557          5          2          1   \n",
       "1            2017-01  C_ID_3d0044924f          4          1          0   \n",
       "2            2016-08  C_ID_d639edf6cd          2          2          0   \n",
       "3            2017-09  C_ID_186d6a6901          4          3          0   \n",
       "4            2017-11  C_ID_cdbd2c0db2          1          3          0   \n",
       "\n",
       "     target  \n",
       "0 -0.820283  \n",
       "1  0.392913  \n",
       "2  0.688056  \n",
       "3  0.142495  \n",
       "4 -0.159749  "
      ]
     },
     "execution_count": 4,
     "metadata": {},
     "output_type": "execute_result"
    }
   ],
   "source": [
    "# Display the first 5 records of the Training set\n",
    "training_set.head()"
   ]
  },
  {
   "cell_type": "code",
   "execution_count": 5,
   "metadata": {
    "_uuid": "23add3ec166e149a5955d54cf8dec1e7d9926545"
   },
   "outputs": [
    {
     "name": "stdout",
     "output_type": "stream",
     "text": [
      "<class 'pandas.core.frame.DataFrame'>\n",
      "RangeIndex: 201917 entries, 0 to 201916\n",
      "Data columns (total 6 columns):\n",
      "first_active_month    201917 non-null object\n",
      "card_id               201917 non-null object\n",
      "feature_1             201917 non-null int64\n",
      "feature_2             201917 non-null int64\n",
      "feature_3             201917 non-null int64\n",
      "target                201917 non-null float64\n",
      "dtypes: float64(1), int64(3), object(2)\n",
      "memory usage: 9.2+ MB\n"
     ]
    }
   ],
   "source": [
    "training_set.info()"
   ]
  },
  {
   "cell_type": "code",
   "execution_count": 6,
   "metadata": {
    "_uuid": "002948774a5e26e7c11288fbe57cf94ea6c6f7ac"
   },
   "outputs": [
    {
     "data": {
      "text/html": [
       "<div>\n",
       "<style scoped>\n",
       "    .dataframe tbody tr th:only-of-type {\n",
       "        vertical-align: middle;\n",
       "    }\n",
       "\n",
       "    .dataframe tbody tr th {\n",
       "        vertical-align: top;\n",
       "    }\n",
       "\n",
       "    .dataframe thead th {\n",
       "        text-align: right;\n",
       "    }\n",
       "</style>\n",
       "<table border=\"1\" class=\"dataframe\">\n",
       "  <thead>\n",
       "    <tr style=\"text-align: right;\">\n",
       "      <th></th>\n",
       "      <th>first_active_month</th>\n",
       "      <th>card_id</th>\n",
       "      <th>feature_1</th>\n",
       "      <th>feature_2</th>\n",
       "      <th>feature_3</th>\n",
       "    </tr>\n",
       "  </thead>\n",
       "  <tbody>\n",
       "    <tr>\n",
       "      <th>0</th>\n",
       "      <td>2017-04</td>\n",
       "      <td>C_ID_0ab67a22ab</td>\n",
       "      <td>3</td>\n",
       "      <td>3</td>\n",
       "      <td>1</td>\n",
       "    </tr>\n",
       "    <tr>\n",
       "      <th>1</th>\n",
       "      <td>2017-01</td>\n",
       "      <td>C_ID_130fd0cbdd</td>\n",
       "      <td>2</td>\n",
       "      <td>3</td>\n",
       "      <td>0</td>\n",
       "    </tr>\n",
       "    <tr>\n",
       "      <th>2</th>\n",
       "      <td>2017-08</td>\n",
       "      <td>C_ID_b709037bc5</td>\n",
       "      <td>5</td>\n",
       "      <td>1</td>\n",
       "      <td>1</td>\n",
       "    </tr>\n",
       "    <tr>\n",
       "      <th>3</th>\n",
       "      <td>2017-12</td>\n",
       "      <td>C_ID_d27d835a9f</td>\n",
       "      <td>2</td>\n",
       "      <td>1</td>\n",
       "      <td>0</td>\n",
       "    </tr>\n",
       "    <tr>\n",
       "      <th>4</th>\n",
       "      <td>2015-12</td>\n",
       "      <td>C_ID_2b5e3df5c2</td>\n",
       "      <td>5</td>\n",
       "      <td>1</td>\n",
       "      <td>1</td>\n",
       "    </tr>\n",
       "  </tbody>\n",
       "</table>\n",
       "</div>"
      ],
      "text/plain": [
       "  first_active_month          card_id  feature_1  feature_2  feature_3\n",
       "0            2017-04  C_ID_0ab67a22ab          3          3          1\n",
       "1            2017-01  C_ID_130fd0cbdd          2          3          0\n",
       "2            2017-08  C_ID_b709037bc5          5          1          1\n",
       "3            2017-12  C_ID_d27d835a9f          2          1          0\n",
       "4            2015-12  C_ID_2b5e3df5c2          5          1          1"
      ]
     },
     "execution_count": 6,
     "metadata": {},
     "output_type": "execute_result"
    }
   ],
   "source": [
    "# Display the first 5 records of the Test set\n",
    "test_set.head()"
   ]
  },
  {
   "cell_type": "code",
   "execution_count": 7,
   "metadata": {
    "_uuid": "afb41ec12666ac87906b17c4d1dded2ee0495d79"
   },
   "outputs": [
    {
     "name": "stdout",
     "output_type": "stream",
     "text": [
      "<class 'pandas.core.frame.DataFrame'>\n",
      "RangeIndex: 123623 entries, 0 to 123622\n",
      "Data columns (total 5 columns):\n",
      "first_active_month    123622 non-null object\n",
      "card_id               123623 non-null object\n",
      "feature_1             123623 non-null int64\n",
      "feature_2             123623 non-null int64\n",
      "feature_3             123623 non-null int64\n",
      "dtypes: int64(3), object(2)\n",
      "memory usage: 4.7+ MB\n"
     ]
    }
   ],
   "source": [
    "test_set.info()"
   ]
  },
  {
   "cell_type": "markdown",
   "metadata": {
    "_uuid": "9b0ebe292fe9ea948e7cdceba1375aa8324b919a"
   },
   "source": [
    "**1.3 Dimension of data**"
   ]
  },
  {
   "cell_type": "code",
   "execution_count": 8,
   "metadata": {
    "_uuid": "1dd12644b0fa11879c2810c5abe0073d3b6e9359"
   },
   "outputs": [
    {
     "name": "stdout",
     "output_type": "stream",
     "text": [
      "The training dataset has 6 columns and  201917 rows\n",
      "The test dataset has 5 columns and  123623 rows\n"
     ]
    }
   ],
   "source": [
    "print(\"The training dataset has\", training_set.shape[1], 'columns and ', training_set.shape[0], 'rows')\n",
    "print(\"The test dataset has\", test_set.shape[1], 'columns and ', test_set.shape[0], 'rows')"
   ]
  },
  {
   "cell_type": "markdown",
   "metadata": {
    "_uuid": "85324e96607215e19d6f4d03cf89a9ed57cfb1c5"
   },
   "source": [
    "**1.4 Overview of the data**"
   ]
  },
  {
   "cell_type": "code",
   "execution_count": 9,
   "metadata": {
    "_uuid": "b34230bda34951283fcc8caa2ac9c7c77713d94b"
   },
   "outputs": [
    {
     "name": "stdout",
     "output_type": "stream",
     "text": [
      "Total number of cardholders in the training set: 201917\n",
      "Total number of cardholders in the test set: 123623\n",
      "Number of features: 5\n"
     ]
    }
   ],
   "source": [
    "# Calculate the number of cardholders in the training set\n",
    "ncard_id_training = len(training_set)\n",
    "\n",
    "#Calculate the number of cardholders in the test set\n",
    "ncard_id_test = len(test_set)\n",
    "\n",
    "# Calculate number of features for both the training and test sets\n",
    "n_features = len(training_set.columns[: -1])\n",
    "\n",
    "print(\"Total number of cardholders in the training set: {}\".format(ncard_id_training))\n",
    "print(\"Total number of cardholders in the test set: {}\".format(ncard_id_test))\n",
    "print(\"Number of features: {}\".format(n_features))"
   ]
  },
  {
   "cell_type": "markdown",
   "metadata": {
    "_uuid": "e52f6f46909b512a55fc9c50dfa7386b7cc7abe6"
   },
   "source": [
    "**1.5 Statistical Summary**"
   ]
  },
  {
   "cell_type": "code",
   "execution_count": 10,
   "metadata": {
    "_uuid": "5d00e91cb015d5dff3aae272892c6eebafb5ccbd"
   },
   "outputs": [
    {
     "name": "stdout",
     "output_type": "stream",
     "text": [
      "Training set\n"
     ]
    },
    {
     "data": {
      "text/html": [
       "<div>\n",
       "<style scoped>\n",
       "    .dataframe tbody tr th:only-of-type {\n",
       "        vertical-align: middle;\n",
       "    }\n",
       "\n",
       "    .dataframe tbody tr th {\n",
       "        vertical-align: top;\n",
       "    }\n",
       "\n",
       "    .dataframe thead th {\n",
       "        text-align: right;\n",
       "    }\n",
       "</style>\n",
       "<table border=\"1\" class=\"dataframe\">\n",
       "  <thead>\n",
       "    <tr style=\"text-align: right;\">\n",
       "      <th></th>\n",
       "      <th>feature_1</th>\n",
       "      <th>feature_2</th>\n",
       "      <th>feature_3</th>\n",
       "      <th>target</th>\n",
       "    </tr>\n",
       "  </thead>\n",
       "  <tbody>\n",
       "    <tr>\n",
       "      <th>count</th>\n",
       "      <td>201917.000000</td>\n",
       "      <td>201917.000000</td>\n",
       "      <td>201917.000000</td>\n",
       "      <td>201917.000000</td>\n",
       "    </tr>\n",
       "    <tr>\n",
       "      <th>mean</th>\n",
       "      <td>3.105311</td>\n",
       "      <td>1.745410</td>\n",
       "      <td>0.565569</td>\n",
       "      <td>-0.393636</td>\n",
       "    </tr>\n",
       "    <tr>\n",
       "      <th>std</th>\n",
       "      <td>1.186160</td>\n",
       "      <td>0.751362</td>\n",
       "      <td>0.495683</td>\n",
       "      <td>3.850500</td>\n",
       "    </tr>\n",
       "    <tr>\n",
       "      <th>min</th>\n",
       "      <td>1.000000</td>\n",
       "      <td>1.000000</td>\n",
       "      <td>0.000000</td>\n",
       "      <td>-33.219281</td>\n",
       "    </tr>\n",
       "    <tr>\n",
       "      <th>25%</th>\n",
       "      <td>2.000000</td>\n",
       "      <td>1.000000</td>\n",
       "      <td>0.000000</td>\n",
       "      <td>-0.883110</td>\n",
       "    </tr>\n",
       "    <tr>\n",
       "      <th>50%</th>\n",
       "      <td>3.000000</td>\n",
       "      <td>2.000000</td>\n",
       "      <td>1.000000</td>\n",
       "      <td>-0.023437</td>\n",
       "    </tr>\n",
       "    <tr>\n",
       "      <th>75%</th>\n",
       "      <td>4.000000</td>\n",
       "      <td>2.000000</td>\n",
       "      <td>1.000000</td>\n",
       "      <td>0.765453</td>\n",
       "    </tr>\n",
       "    <tr>\n",
       "      <th>max</th>\n",
       "      <td>5.000000</td>\n",
       "      <td>3.000000</td>\n",
       "      <td>1.000000</td>\n",
       "      <td>17.965068</td>\n",
       "    </tr>\n",
       "  </tbody>\n",
       "</table>\n",
       "</div>"
      ],
      "text/plain": [
       "           feature_1      feature_2      feature_3         target\n",
       "count  201917.000000  201917.000000  201917.000000  201917.000000\n",
       "mean        3.105311       1.745410       0.565569      -0.393636\n",
       "std         1.186160       0.751362       0.495683       3.850500\n",
       "min         1.000000       1.000000       0.000000     -33.219281\n",
       "25%         2.000000       1.000000       0.000000      -0.883110\n",
       "50%         3.000000       2.000000       1.000000      -0.023437\n",
       "75%         4.000000       2.000000       1.000000       0.765453\n",
       "max         5.000000       3.000000       1.000000      17.965068"
      ]
     },
     "metadata": {},
     "output_type": "display_data"
    },
    {
     "name": "stdout",
     "output_type": "stream",
     "text": [
      "Test set\n"
     ]
    },
    {
     "data": {
      "text/html": [
       "<div>\n",
       "<style scoped>\n",
       "    .dataframe tbody tr th:only-of-type {\n",
       "        vertical-align: middle;\n",
       "    }\n",
       "\n",
       "    .dataframe tbody tr th {\n",
       "        vertical-align: top;\n",
       "    }\n",
       "\n",
       "    .dataframe thead th {\n",
       "        text-align: right;\n",
       "    }\n",
       "</style>\n",
       "<table border=\"1\" class=\"dataframe\">\n",
       "  <thead>\n",
       "    <tr style=\"text-align: right;\">\n",
       "      <th></th>\n",
       "      <th>feature_1</th>\n",
       "      <th>feature_2</th>\n",
       "      <th>feature_3</th>\n",
       "    </tr>\n",
       "  </thead>\n",
       "  <tbody>\n",
       "    <tr>\n",
       "      <th>count</th>\n",
       "      <td>123623.00000</td>\n",
       "      <td>123623.000000</td>\n",
       "      <td>123623.000000</td>\n",
       "    </tr>\n",
       "    <tr>\n",
       "      <th>mean</th>\n",
       "      <td>3.10926</td>\n",
       "      <td>1.741796</td>\n",
       "      <td>0.564377</td>\n",
       "    </tr>\n",
       "    <tr>\n",
       "      <th>std</th>\n",
       "      <td>1.18911</td>\n",
       "      <td>0.749195</td>\n",
       "      <td>0.495840</td>\n",
       "    </tr>\n",
       "    <tr>\n",
       "      <th>min</th>\n",
       "      <td>1.00000</td>\n",
       "      <td>1.000000</td>\n",
       "      <td>0.000000</td>\n",
       "    </tr>\n",
       "    <tr>\n",
       "      <th>25%</th>\n",
       "      <td>2.00000</td>\n",
       "      <td>1.000000</td>\n",
       "      <td>0.000000</td>\n",
       "    </tr>\n",
       "    <tr>\n",
       "      <th>50%</th>\n",
       "      <td>3.00000</td>\n",
       "      <td>2.000000</td>\n",
       "      <td>1.000000</td>\n",
       "    </tr>\n",
       "    <tr>\n",
       "      <th>75%</th>\n",
       "      <td>4.00000</td>\n",
       "      <td>2.000000</td>\n",
       "      <td>1.000000</td>\n",
       "    </tr>\n",
       "    <tr>\n",
       "      <th>max</th>\n",
       "      <td>5.00000</td>\n",
       "      <td>3.000000</td>\n",
       "      <td>1.000000</td>\n",
       "    </tr>\n",
       "  </tbody>\n",
       "</table>\n",
       "</div>"
      ],
      "text/plain": [
       "          feature_1      feature_2      feature_3\n",
       "count  123623.00000  123623.000000  123623.000000\n",
       "mean        3.10926       1.741796       0.564377\n",
       "std         1.18911       0.749195       0.495840\n",
       "min         1.00000       1.000000       0.000000\n",
       "25%         2.00000       1.000000       0.000000\n",
       "50%         3.00000       2.000000       1.000000\n",
       "75%         4.00000       2.000000       1.000000\n",
       "max         5.00000       3.000000       1.000000"
      ]
     },
     "metadata": {},
     "output_type": "display_data"
    }
   ],
   "source": [
    "print(\"Training set\")\n",
    "display(training_set.describe())\n",
    "\n",
    "print(\"Test set\")\n",
    "display(test_set.describe())"
   ]
  },
  {
   "cell_type": "markdown",
   "metadata": {
    "_uuid": "f83292b8e1973b4df869dde92ab2c421d5660bb3"
   },
   "source": [
    "**Exploration of the historical transaction data**"
   ]
  },
  {
   "cell_type": "code",
   "execution_count": 11,
   "metadata": {
    "_uuid": "95062538aa0fe77aa557ff6fd4e0bf3edcd105b9"
   },
   "outputs": [
    {
     "data": {
      "text/html": [
       "<div>\n",
       "<style scoped>\n",
       "    .dataframe tbody tr th:only-of-type {\n",
       "        vertical-align: middle;\n",
       "    }\n",
       "\n",
       "    .dataframe tbody tr th {\n",
       "        vertical-align: top;\n",
       "    }\n",
       "\n",
       "    .dataframe thead th {\n",
       "        text-align: right;\n",
       "    }\n",
       "</style>\n",
       "<table border=\"1\" class=\"dataframe\">\n",
       "  <thead>\n",
       "    <tr style=\"text-align: right;\">\n",
       "      <th></th>\n",
       "      <th>authorized_flag</th>\n",
       "      <th>card_id</th>\n",
       "      <th>city_id</th>\n",
       "      <th>category_1</th>\n",
       "      <th>installments</th>\n",
       "      <th>category_3</th>\n",
       "      <th>merchant_category_id</th>\n",
       "      <th>merchant_id</th>\n",
       "      <th>month_lag</th>\n",
       "      <th>purchase_amount</th>\n",
       "      <th>purchase_date</th>\n",
       "      <th>category_2</th>\n",
       "      <th>state_id</th>\n",
       "      <th>subsector_id</th>\n",
       "    </tr>\n",
       "  </thead>\n",
       "  <tbody>\n",
       "    <tr>\n",
       "      <th>0</th>\n",
       "      <td>Y</td>\n",
       "      <td>C_ID_4e6213e9bc</td>\n",
       "      <td>88</td>\n",
       "      <td>N</td>\n",
       "      <td>0</td>\n",
       "      <td>A</td>\n",
       "      <td>80</td>\n",
       "      <td>M_ID_e020e9b302</td>\n",
       "      <td>-8</td>\n",
       "      <td>-0.703331</td>\n",
       "      <td>2017-06-25 15:33:07</td>\n",
       "      <td>1.0</td>\n",
       "      <td>16</td>\n",
       "      <td>37</td>\n",
       "    </tr>\n",
       "    <tr>\n",
       "      <th>1</th>\n",
       "      <td>Y</td>\n",
       "      <td>C_ID_4e6213e9bc</td>\n",
       "      <td>88</td>\n",
       "      <td>N</td>\n",
       "      <td>0</td>\n",
       "      <td>A</td>\n",
       "      <td>367</td>\n",
       "      <td>M_ID_86ec983688</td>\n",
       "      <td>-7</td>\n",
       "      <td>-0.733128</td>\n",
       "      <td>2017-07-15 12:10:45</td>\n",
       "      <td>1.0</td>\n",
       "      <td>16</td>\n",
       "      <td>16</td>\n",
       "    </tr>\n",
       "    <tr>\n",
       "      <th>2</th>\n",
       "      <td>Y</td>\n",
       "      <td>C_ID_4e6213e9bc</td>\n",
       "      <td>88</td>\n",
       "      <td>N</td>\n",
       "      <td>0</td>\n",
       "      <td>A</td>\n",
       "      <td>80</td>\n",
       "      <td>M_ID_979ed661fc</td>\n",
       "      <td>-6</td>\n",
       "      <td>-0.720386</td>\n",
       "      <td>2017-08-09 22:04:29</td>\n",
       "      <td>1.0</td>\n",
       "      <td>16</td>\n",
       "      <td>37</td>\n",
       "    </tr>\n",
       "    <tr>\n",
       "      <th>3</th>\n",
       "      <td>Y</td>\n",
       "      <td>C_ID_4e6213e9bc</td>\n",
       "      <td>88</td>\n",
       "      <td>N</td>\n",
       "      <td>0</td>\n",
       "      <td>A</td>\n",
       "      <td>560</td>\n",
       "      <td>M_ID_e6d5ae8ea6</td>\n",
       "      <td>-5</td>\n",
       "      <td>-0.735352</td>\n",
       "      <td>2017-09-02 10:06:26</td>\n",
       "      <td>1.0</td>\n",
       "      <td>16</td>\n",
       "      <td>34</td>\n",
       "    </tr>\n",
       "    <tr>\n",
       "      <th>4</th>\n",
       "      <td>Y</td>\n",
       "      <td>C_ID_4e6213e9bc</td>\n",
       "      <td>88</td>\n",
       "      <td>N</td>\n",
       "      <td>0</td>\n",
       "      <td>A</td>\n",
       "      <td>80</td>\n",
       "      <td>M_ID_e020e9b302</td>\n",
       "      <td>-11</td>\n",
       "      <td>-0.722865</td>\n",
       "      <td>2017-03-10 01:14:19</td>\n",
       "      <td>1.0</td>\n",
       "      <td>16</td>\n",
       "      <td>37</td>\n",
       "    </tr>\n",
       "  </tbody>\n",
       "</table>\n",
       "</div>"
      ],
      "text/plain": [
       "  authorized_flag          card_id  city_id category_1  installments  \\\n",
       "0               Y  C_ID_4e6213e9bc       88          N             0   \n",
       "1               Y  C_ID_4e6213e9bc       88          N             0   \n",
       "2               Y  C_ID_4e6213e9bc       88          N             0   \n",
       "3               Y  C_ID_4e6213e9bc       88          N             0   \n",
       "4               Y  C_ID_4e6213e9bc       88          N             0   \n",
       "\n",
       "  category_3  merchant_category_id      merchant_id  month_lag  \\\n",
       "0          A                    80  M_ID_e020e9b302         -8   \n",
       "1          A                   367  M_ID_86ec983688         -7   \n",
       "2          A                    80  M_ID_979ed661fc         -6   \n",
       "3          A                   560  M_ID_e6d5ae8ea6         -5   \n",
       "4          A                    80  M_ID_e020e9b302        -11   \n",
       "\n",
       "   purchase_amount        purchase_date  category_2  state_id  subsector_id  \n",
       "0        -0.703331  2017-06-25 15:33:07         1.0        16            37  \n",
       "1        -0.733128  2017-07-15 12:10:45         1.0        16            16  \n",
       "2        -0.720386  2017-08-09 22:04:29         1.0        16            37  \n",
       "3        -0.735352  2017-09-02 10:06:26         1.0        16            34  \n",
       "4        -0.722865  2017-03-10 01:14:19         1.0        16            37  "
      ]
     },
     "execution_count": 11,
     "metadata": {},
     "output_type": "execute_result"
    }
   ],
   "source": [
    "historical_trans.head()"
   ]
  },
  {
   "cell_type": "code",
   "execution_count": 12,
   "metadata": {
    "_uuid": "4a1cebc7754cab9d974b83857548c152febd5c25"
   },
   "outputs": [
    {
     "name": "stdout",
     "output_type": "stream",
     "text": [
      "(29112361, 14)\n"
     ]
    }
   ],
   "source": [
    "print(historical_trans.shape)"
   ]
  },
  {
   "cell_type": "code",
   "execution_count": 13,
   "metadata": {
    "_uuid": "8bd5627f93e3e84eedcd1582064be16774b4f880"
   },
   "outputs": [
    {
     "data": {
      "text/plain": [
       "authorized_flag          object\n",
       "card_id                  object\n",
       "city_id                   int64\n",
       "category_1               object\n",
       "installments              int64\n",
       "category_3               object\n",
       "merchant_category_id      int64\n",
       "merchant_id              object\n",
       "month_lag                 int64\n",
       "purchase_amount         float64\n",
       "purchase_date            object\n",
       "category_2              float64\n",
       "state_id                  int64\n",
       "subsector_id              int64\n",
       "dtype: object"
      ]
     },
     "execution_count": 13,
     "metadata": {},
     "output_type": "execute_result"
    }
   ],
   "source": [
    "historical_trans.dtypes"
   ]
  },
  {
   "cell_type": "markdown",
   "metadata": {
    "_uuid": "66cd83f8fa17e57ea9367d615dd876042e1d9c8f"
   },
   "source": [
    "**Exploration of the new merchant transactions data**"
   ]
  },
  {
   "cell_type": "code",
   "execution_count": 14,
   "metadata": {
    "_uuid": "08d80fbc75f0b9dd40270bd672addad20f9c84ba"
   },
   "outputs": [
    {
     "data": {
      "text/html": [
       "<div>\n",
       "<style scoped>\n",
       "    .dataframe tbody tr th:only-of-type {\n",
       "        vertical-align: middle;\n",
       "    }\n",
       "\n",
       "    .dataframe tbody tr th {\n",
       "        vertical-align: top;\n",
       "    }\n",
       "\n",
       "    .dataframe thead th {\n",
       "        text-align: right;\n",
       "    }\n",
       "</style>\n",
       "<table border=\"1\" class=\"dataframe\">\n",
       "  <thead>\n",
       "    <tr style=\"text-align: right;\">\n",
       "      <th></th>\n",
       "      <th>authorized_flag</th>\n",
       "      <th>card_id</th>\n",
       "      <th>city_id</th>\n",
       "      <th>category_1</th>\n",
       "      <th>installments</th>\n",
       "      <th>category_3</th>\n",
       "      <th>merchant_category_id</th>\n",
       "      <th>merchant_id</th>\n",
       "      <th>month_lag</th>\n",
       "      <th>purchase_amount</th>\n",
       "      <th>purchase_date</th>\n",
       "      <th>category_2</th>\n",
       "      <th>state_id</th>\n",
       "      <th>subsector_id</th>\n",
       "    </tr>\n",
       "  </thead>\n",
       "  <tbody>\n",
       "    <tr>\n",
       "      <th>0</th>\n",
       "      <td>Y</td>\n",
       "      <td>C_ID_415bb3a509</td>\n",
       "      <td>107</td>\n",
       "      <td>N</td>\n",
       "      <td>1</td>\n",
       "      <td>B</td>\n",
       "      <td>307</td>\n",
       "      <td>M_ID_b0c793002c</td>\n",
       "      <td>1</td>\n",
       "      <td>-0.557574</td>\n",
       "      <td>2018-03-11 14:57:36</td>\n",
       "      <td>1.0</td>\n",
       "      <td>9</td>\n",
       "      <td>19</td>\n",
       "    </tr>\n",
       "    <tr>\n",
       "      <th>1</th>\n",
       "      <td>Y</td>\n",
       "      <td>C_ID_415bb3a509</td>\n",
       "      <td>140</td>\n",
       "      <td>N</td>\n",
       "      <td>1</td>\n",
       "      <td>B</td>\n",
       "      <td>307</td>\n",
       "      <td>M_ID_88920c89e8</td>\n",
       "      <td>1</td>\n",
       "      <td>-0.569580</td>\n",
       "      <td>2018-03-19 18:53:37</td>\n",
       "      <td>1.0</td>\n",
       "      <td>9</td>\n",
       "      <td>19</td>\n",
       "    </tr>\n",
       "    <tr>\n",
       "      <th>2</th>\n",
       "      <td>Y</td>\n",
       "      <td>C_ID_415bb3a509</td>\n",
       "      <td>330</td>\n",
       "      <td>N</td>\n",
       "      <td>1</td>\n",
       "      <td>B</td>\n",
       "      <td>507</td>\n",
       "      <td>M_ID_ad5237ef6b</td>\n",
       "      <td>2</td>\n",
       "      <td>-0.551037</td>\n",
       "      <td>2018-04-26 14:08:44</td>\n",
       "      <td>1.0</td>\n",
       "      <td>9</td>\n",
       "      <td>14</td>\n",
       "    </tr>\n",
       "    <tr>\n",
       "      <th>3</th>\n",
       "      <td>Y</td>\n",
       "      <td>C_ID_415bb3a509</td>\n",
       "      <td>-1</td>\n",
       "      <td>Y</td>\n",
       "      <td>1</td>\n",
       "      <td>B</td>\n",
       "      <td>661</td>\n",
       "      <td>M_ID_9e84cda3b1</td>\n",
       "      <td>1</td>\n",
       "      <td>-0.671925</td>\n",
       "      <td>2018-03-07 09:43:21</td>\n",
       "      <td>NaN</td>\n",
       "      <td>-1</td>\n",
       "      <td>8</td>\n",
       "    </tr>\n",
       "    <tr>\n",
       "      <th>4</th>\n",
       "      <td>Y</td>\n",
       "      <td>C_ID_ef55cf8d4b</td>\n",
       "      <td>-1</td>\n",
       "      <td>Y</td>\n",
       "      <td>1</td>\n",
       "      <td>B</td>\n",
       "      <td>166</td>\n",
       "      <td>M_ID_3c86fa3831</td>\n",
       "      <td>1</td>\n",
       "      <td>-0.659904</td>\n",
       "      <td>2018-03-22 21:07:53</td>\n",
       "      <td>NaN</td>\n",
       "      <td>-1</td>\n",
       "      <td>29</td>\n",
       "    </tr>\n",
       "  </tbody>\n",
       "</table>\n",
       "</div>"
      ],
      "text/plain": [
       "  authorized_flag          card_id  city_id category_1  installments  \\\n",
       "0               Y  C_ID_415bb3a509      107          N             1   \n",
       "1               Y  C_ID_415bb3a509      140          N             1   \n",
       "2               Y  C_ID_415bb3a509      330          N             1   \n",
       "3               Y  C_ID_415bb3a509       -1          Y             1   \n",
       "4               Y  C_ID_ef55cf8d4b       -1          Y             1   \n",
       "\n",
       "  category_3  merchant_category_id      merchant_id  month_lag  \\\n",
       "0          B                   307  M_ID_b0c793002c          1   \n",
       "1          B                   307  M_ID_88920c89e8          1   \n",
       "2          B                   507  M_ID_ad5237ef6b          2   \n",
       "3          B                   661  M_ID_9e84cda3b1          1   \n",
       "4          B                   166  M_ID_3c86fa3831          1   \n",
       "\n",
       "   purchase_amount        purchase_date  category_2  state_id  subsector_id  \n",
       "0        -0.557574  2018-03-11 14:57:36         1.0         9            19  \n",
       "1        -0.569580  2018-03-19 18:53:37         1.0         9            19  \n",
       "2        -0.551037  2018-04-26 14:08:44         1.0         9            14  \n",
       "3        -0.671925  2018-03-07 09:43:21         NaN        -1             8  \n",
       "4        -0.659904  2018-03-22 21:07:53         NaN        -1            29  "
      ]
     },
     "execution_count": 14,
     "metadata": {},
     "output_type": "execute_result"
    }
   ],
   "source": [
    "new_merchant_trans.head()"
   ]
  },
  {
   "cell_type": "code",
   "execution_count": 15,
   "metadata": {
    "_uuid": "0261aa07397157ab796b502d5dd202eea45bef66"
   },
   "outputs": [
    {
     "name": "stdout",
     "output_type": "stream",
     "text": [
      "(1963031, 14)\n"
     ]
    }
   ],
   "source": [
    "print(new_merchant_trans.shape)"
   ]
  },
  {
   "cell_type": "code",
   "execution_count": 16,
   "metadata": {
    "_uuid": "3d974579f659e91e4cf5e8675ae02de079a2a154"
   },
   "outputs": [
    {
     "data": {
      "text/plain": [
       "authorized_flag          object\n",
       "card_id                  object\n",
       "city_id                   int64\n",
       "category_1               object\n",
       "installments              int64\n",
       "category_3               object\n",
       "merchant_category_id      int64\n",
       "merchant_id              object\n",
       "month_lag                 int64\n",
       "purchase_amount         float64\n",
       "purchase_date            object\n",
       "category_2              float64\n",
       "state_id                  int64\n",
       "subsector_id              int64\n",
       "dtype: object"
      ]
     },
     "execution_count": 16,
     "metadata": {},
     "output_type": "execute_result"
    }
   ],
   "source": [
    "new_merchant_trans.dtypes"
   ]
  },
  {
   "cell_type": "markdown",
   "metadata": {
    "_uuid": "78fe3ea3fdef339e5ec01c8b9c12b58d5789869c"
   },
   "source": [
    "**Description of merchants data**"
   ]
  },
  {
   "cell_type": "code",
   "execution_count": 17,
   "metadata": {
    "_uuid": "865e6f198ecab7cf4ff54449a3dbb708b77ba0a6"
   },
   "outputs": [
    {
     "data": {
      "text/html": [
       "<div>\n",
       "<style scoped>\n",
       "    .dataframe tbody tr th:only-of-type {\n",
       "        vertical-align: middle;\n",
       "    }\n",
       "\n",
       "    .dataframe tbody tr th {\n",
       "        vertical-align: top;\n",
       "    }\n",
       "\n",
       "    .dataframe thead th {\n",
       "        text-align: right;\n",
       "    }\n",
       "</style>\n",
       "<table border=\"1\" class=\"dataframe\">\n",
       "  <thead>\n",
       "    <tr style=\"text-align: right;\">\n",
       "      <th></th>\n",
       "      <th>merchants.csv</th>\n",
       "      <th>Unnamed: 1</th>\n",
       "    </tr>\n",
       "  </thead>\n",
       "  <tbody>\n",
       "    <tr>\n",
       "      <th>0</th>\n",
       "      <td>NaN</td>\n",
       "      <td>NaN</td>\n",
       "    </tr>\n",
       "    <tr>\n",
       "      <th>1</th>\n",
       "      <td>Columns</td>\n",
       "      <td>Description</td>\n",
       "    </tr>\n",
       "    <tr>\n",
       "      <th>2</th>\n",
       "      <td>merchant_id</td>\n",
       "      <td>Unique merchant identifier</td>\n",
       "    </tr>\n",
       "    <tr>\n",
       "      <th>3</th>\n",
       "      <td>merchant_group_id</td>\n",
       "      <td>Merchant group (anonymized )</td>\n",
       "    </tr>\n",
       "    <tr>\n",
       "      <th>4</th>\n",
       "      <td>merchant_category_id</td>\n",
       "      <td>Unique identifier for merchant category (anony...</td>\n",
       "    </tr>\n",
       "    <tr>\n",
       "      <th>5</th>\n",
       "      <td>subsector_id</td>\n",
       "      <td>Merchant category group (anonymized )</td>\n",
       "    </tr>\n",
       "    <tr>\n",
       "      <th>6</th>\n",
       "      <td>numerical_1</td>\n",
       "      <td>anonymized measure</td>\n",
       "    </tr>\n",
       "    <tr>\n",
       "      <th>7</th>\n",
       "      <td>numerical_2</td>\n",
       "      <td>anonymized measure</td>\n",
       "    </tr>\n",
       "    <tr>\n",
       "      <th>8</th>\n",
       "      <td>category_1</td>\n",
       "      <td>anonymized category</td>\n",
       "    </tr>\n",
       "    <tr>\n",
       "      <th>9</th>\n",
       "      <td>most_recent_sales_range</td>\n",
       "      <td>Range of revenue (monetary units) in last acti...</td>\n",
       "    </tr>\n",
       "    <tr>\n",
       "      <th>10</th>\n",
       "      <td>most_recent_purchases_range</td>\n",
       "      <td>Range of quantity of transactions in last acti...</td>\n",
       "    </tr>\n",
       "    <tr>\n",
       "      <th>11</th>\n",
       "      <td>avg_sales_lag3</td>\n",
       "      <td>Monthly average of revenue in last 3 months di...</td>\n",
       "    </tr>\n",
       "    <tr>\n",
       "      <th>12</th>\n",
       "      <td>avg_purchases_lag3</td>\n",
       "      <td>Monthly average of transactions in last 3 mont...</td>\n",
       "    </tr>\n",
       "    <tr>\n",
       "      <th>13</th>\n",
       "      <td>active_months_lag3</td>\n",
       "      <td>Quantity of active months within last 3 months</td>\n",
       "    </tr>\n",
       "    <tr>\n",
       "      <th>14</th>\n",
       "      <td>avg_sales_lag6</td>\n",
       "      <td>Monthly average of revenue in last 6 months di...</td>\n",
       "    </tr>\n",
       "    <tr>\n",
       "      <th>15</th>\n",
       "      <td>avg_purchases_lag6</td>\n",
       "      <td>Monthly average of transactions in last 6 mont...</td>\n",
       "    </tr>\n",
       "    <tr>\n",
       "      <th>16</th>\n",
       "      <td>active_months_lag6</td>\n",
       "      <td>Quantity of active months within last 6 months</td>\n",
       "    </tr>\n",
       "    <tr>\n",
       "      <th>17</th>\n",
       "      <td>avg_sales_lag12</td>\n",
       "      <td>Monthly average of revenue in last 12 months d...</td>\n",
       "    </tr>\n",
       "    <tr>\n",
       "      <th>18</th>\n",
       "      <td>avg_purchases_lag12</td>\n",
       "      <td>Monthly average of transactions in last 12 mon...</td>\n",
       "    </tr>\n",
       "    <tr>\n",
       "      <th>19</th>\n",
       "      <td>active_months_lag12</td>\n",
       "      <td>Quantity of active months within last 12 months</td>\n",
       "    </tr>\n",
       "    <tr>\n",
       "      <th>20</th>\n",
       "      <td>category_4</td>\n",
       "      <td>anonymized category</td>\n",
       "    </tr>\n",
       "    <tr>\n",
       "      <th>21</th>\n",
       "      <td>city_id</td>\n",
       "      <td>City identifier (anonymized )</td>\n",
       "    </tr>\n",
       "    <tr>\n",
       "      <th>22</th>\n",
       "      <td>state_id</td>\n",
       "      <td>State identifier (anonymized )</td>\n",
       "    </tr>\n",
       "    <tr>\n",
       "      <th>23</th>\n",
       "      <td>category_2</td>\n",
       "      <td>anonymized category</td>\n",
       "    </tr>\n",
       "  </tbody>\n",
       "</table>\n",
       "</div>"
      ],
      "text/plain": [
       "                  merchants.csv  \\\n",
       "0                           NaN   \n",
       "1                       Columns   \n",
       "2                   merchant_id   \n",
       "3             merchant_group_id   \n",
       "4          merchant_category_id   \n",
       "5                  subsector_id   \n",
       "6                   numerical_1   \n",
       "7                   numerical_2   \n",
       "8                    category_1   \n",
       "9       most_recent_sales_range   \n",
       "10  most_recent_purchases_range   \n",
       "11               avg_sales_lag3   \n",
       "12           avg_purchases_lag3   \n",
       "13           active_months_lag3   \n",
       "14               avg_sales_lag6   \n",
       "15           avg_purchases_lag6   \n",
       "16           active_months_lag6   \n",
       "17              avg_sales_lag12   \n",
       "18          avg_purchases_lag12   \n",
       "19          active_months_lag12   \n",
       "20                   category_4   \n",
       "21                      city_id   \n",
       "22                     state_id   \n",
       "23                   category_2   \n",
       "\n",
       "                                           Unnamed: 1  \n",
       "0                                                 NaN  \n",
       "1                                         Description  \n",
       "2                          Unique merchant identifier  \n",
       "3                        Merchant group (anonymized )  \n",
       "4   Unique identifier for merchant category (anony...  \n",
       "5               Merchant category group (anonymized )  \n",
       "6                                  anonymized measure  \n",
       "7                                  anonymized measure  \n",
       "8                                 anonymized category  \n",
       "9   Range of revenue (monetary units) in last acti...  \n",
       "10  Range of quantity of transactions in last acti...  \n",
       "11  Monthly average of revenue in last 3 months di...  \n",
       "12  Monthly average of transactions in last 3 mont...  \n",
       "13     Quantity of active months within last 3 months  \n",
       "14  Monthly average of revenue in last 6 months di...  \n",
       "15  Monthly average of transactions in last 6 mont...  \n",
       "16     Quantity of active months within last 6 months  \n",
       "17  Monthly average of revenue in last 12 months d...  \n",
       "18  Monthly average of transactions in last 12 mon...  \n",
       "19    Quantity of active months within last 12 months  \n",
       "20                                anonymized category  \n",
       "21                      City identifier (anonymized )  \n",
       "22                     State identifier (anonymized )  \n",
       "23                                anonymized category  "
      ]
     },
     "execution_count": 17,
     "metadata": {},
     "output_type": "execute_result"
    }
   ],
   "source": [
    "data_dict_merchants"
   ]
  },
  {
   "cell_type": "markdown",
   "metadata": {
    "_uuid": "ee9c8e065faba9961fb424bbcf76ff66712a5197"
   },
   "source": [
    "\n",
    "**1.6 Exploratory Analysis - Data Visualization of the Training Data**"
   ]
  },
  {
   "cell_type": "code",
   "execution_count": 18,
   "metadata": {
    "_uuid": "6f739310d2637420ce79cb5c70ffe82b490a5245"
   },
   "outputs": [
    {
     "data": {
      "image/png": "[encoded data removed]",
      "text/plain": [
       "<Figure size 864x720 with 1 Axes>"
      ]
     },
     "metadata": {
      "needs_background": "light"
     },
     "output_type": "display_data"
    }
   ],
   "source": [
    "# Visualize the distribution of the data\n",
    "plt.figure(figsize=(12, 10))\n",
    "plt.hist(training_set.target.values, bins = 50, color = 'green')\n",
    "\n",
    "plt.xlabel(\"Index\", fontsize = 13)\n",
    "plt.ylabel(\"Loyalty Score\", fontsize = 13)\n",
    "\n",
    "plt.show()"
   ]
  },
  {
   "cell_type": "code",
   "execution_count": 19,
   "metadata": {
    "_uuid": "8f5a85ae321ccb1b8232e6da5cb1eaeb20072d0e"
   },
   "outputs": [
    {
     "data": {
      "text/plain": [
       "2207"
      ]
     },
     "execution_count": 19,
     "metadata": {},
     "output_type": "execute_result"
    }
   ],
   "source": [
    "(training_set.target.values < -30).sum()"
   ]
  },
  {
   "cell_type": "markdown",
   "metadata": {
    "_uuid": "064c443901d42f7819b0f6217e5ae404482aada6"
   },
   "source": [
    "The distribution of the target column in the training set is a normal distribution, except for a few outliers. The outliers make up only about 1% of the data."
   ]
  },
  {
   "cell_type": "markdown",
   "metadata": {
    "_uuid": "3f7972c2388289c53cc3459925537dc1d2363eb2"
   },
   "source": [
    "Exploring the behaviour of the feature in relation with our **Target**.\n",
    "\n",
    "Violin plot:\n",
    "\n",
    "A violin plot is used to visualise the distribution of the data its probability density. The probability density function whose function at any given sample in the sample space can be interpreted as providing a relative likelihood that the value of the random variable would equal of the sample. The violin plot is a combination of a Box plot and a Density plot that is rotated and placed on each side, to show the distribution shape of the data. The thick black bar represents the interquartile range, the thin black line extended from it represents the 95% confidence intervals and the white dot is the median.\n",
    "\n",
    "Box plots are limited in their display of the data, as their visual simplicity tends to hide significant details."
   ]
  },
  {
   "cell_type": "code",
   "execution_count": 20,
   "metadata": {
    "_uuid": "4b8526e897c7e982d2be378f83f79e189112c04b"
   },
   "outputs": [
    {
     "name": "stderr",
     "output_type": "stream",
     "text": [
      "/Users/joelholla/anaconda/envs/pythonb/lib/python3.6/site-packages/scipy/stats/stats.py:1713: FutureWarning: Using a non-tuple sequence for multidimensional indexing is deprecated; use `arr[tuple(seq)]` instead of `arr[seq]`. In the future this will be interpreted as an array index, `arr[np.array(seq)]`, which will result either in an error or a different result.\n",
      "  return np.add.reduce(sorted[indexer] * weights, axis=axis) / sumval\n"
     ]
    },
    {
     "data": {
      "text/plain": [
       "Text(0,0.5,'target')"
      ]
     },
     "execution_count": 20,
     "metadata": {},
     "output_type": "execute_result"
    },
    {
     "data": {
      "image/png": "[encoded data removed]",
      "text/plain": [
       "<Figure size 1440x504 with 2 Axes>"
      ]
     },
     "metadata": {
      "needs_background": "light"
     },
     "output_type": "display_data"
    }
   ],
   "source": [
    "# Violin plot Feature 1\n",
    "plt.figure(figsize = (20, 7))\n",
    "plt.subplot(121)\n",
    "sns.violinplot(training_set.feature_1, training_set.target)\n",
    "plt.xlabel('feature_1')\n",
    "plt.ylabel('target')\n",
    "\n",
    "# Bar plot Feature 1\n",
    "plt.subplot(122)\n",
    "training_set['feature_1'].value_counts().plot(kind='bar')\n",
    "plt.xlabel('feature_1')\n",
    "plt.ylabel('target')"
   ]
  },
  {
   "cell_type": "code",
   "execution_count": 21,
   "metadata": {
    "_uuid": "303ee5f68bdb899b35c7cb3114cedcacd67315f6"
   },
   "outputs": [
    {
     "name": "stderr",
     "output_type": "stream",
     "text": [
      "/Users/joelholla/anaconda/envs/pythonb/lib/python3.6/site-packages/scipy/stats/stats.py:1713: FutureWarning: Using a non-tuple sequence for multidimensional indexing is deprecated; use `arr[tuple(seq)]` instead of `arr[seq]`. In the future this will be interpreted as an array index, `arr[np.array(seq)]`, which will result either in an error or a different result.\n",
      "  return np.add.reduce(sorted[indexer] * weights, axis=axis) / sumval\n"
     ]
    },
    {
     "data": {
      "text/plain": [
       "Text(0,0.5,'target')"
      ]
     },
     "execution_count": 21,
     "metadata": {},
     "output_type": "execute_result"
    },
    {
     "data": {
      "image/png": "[encoded data removed]",
      "text/plain": [
       "<Figure size 1440x504 with 2 Axes>"
      ]
     },
     "metadata": {
      "needs_background": "light"
     },
     "output_type": "display_data"
    }
   ],
   "source": [
    "# Violin plot Feature 2\n",
    "plt.figure(figsize = (20, 7))\n",
    "plt.subplot(121)\n",
    "sns.violinplot(training_set.feature_2, training_set.target)\n",
    "plt.xlabel('feature_2')\n",
    "plt.ylabel('target')\n",
    "\n",
    "# Bar plot Feature 2\n",
    "plt.subplot(122)\n",
    "training_set['feature_2'].value_counts().plot(kind='bar')\n",
    "plt.xlabel('feature_2')\n",
    "plt.ylabel('target')"
   ]
  },
  {
   "cell_type": "code",
   "execution_count": 22,
   "metadata": {
    "_uuid": "b6cf725d4805bd51efdbe8ecfa6c24167e07b25e"
   },
   "outputs": [
    {
     "name": "stderr",
     "output_type": "stream",
     "text": [
      "/Users/joelholla/anaconda/envs/pythonb/lib/python3.6/site-packages/scipy/stats/stats.py:1713: FutureWarning: Using a non-tuple sequence for multidimensional indexing is deprecated; use `arr[tuple(seq)]` instead of `arr[seq]`. In the future this will be interpreted as an array index, `arr[np.array(seq)]`, which will result either in an error or a different result.\n",
      "  return np.add.reduce(sorted[indexer] * weights, axis=axis) / sumval\n"
     ]
    },
    {
     "data": {
      "text/plain": [
       "Text(0,0.5,'target')"
      ]
     },
     "execution_count": 22,
     "metadata": {},
     "output_type": "execute_result"
    },
    {
     "data": {
      "image/png": "[encoded data removed]",
      "text/plain": [
       "<Figure size 1440x504 with 2 Axes>"
      ]
     },
     "metadata": {
      "needs_background": "light"
     },
     "output_type": "display_data"
    }
   ],
   "source": [
    "# Violin plot Feature 3\n",
    "plt.figure(figsize = (20, 7))\n",
    "plt.subplot(121)\n",
    "sns.violinplot(training_set.feature_3, training_set.target)\n",
    "plt.xlabel('feature_3')\n",
    "plt.ylabel('target')\n",
    "\n",
    "# Bar plot Feature 3\n",
    "plt.subplot(122)\n",
    "training_set['feature_3'].value_counts().plot(kind='bar')\n",
    "plt.xlabel('feature_3')\n",
    "plt.ylabel('target')"
   ]
  },
  {
   "cell_type": "markdown",
   "metadata": {
    "_uuid": "4c402a17e45c0de90dee35b2b1e438dc8293e83b"
   },
   "source": [
    "Observations for the training data set:\n",
    "\n",
    "1. There are only a handful of different values for each of the three features.\n",
    "2. All the values are discrete values.\n",
    "3. All of the features are relatively evenly distributed\n",
    "\n",
    "This suggests these features are categorical and have been label encoded. This analysis could also indicate that these features aren't good at predicting target values, we will likely need others features and features engineering to make better predictions."
   ]
  },
  {
   "cell_type": "code",
   "execution_count": 23,
   "metadata": {
    "_uuid": "0f3aeae6974ad5fdb664550705b362cc6ca6fdda"
   },
   "outputs": [
    {
     "data": {
      "text/plain": [
       "<matplotlib.axes._subplots.AxesSubplot at 0x1a20b16978>"
      ]
     },
     "execution_count": 23,
     "metadata": {},
     "output_type": "execute_result"
    },
    {
     "data": {
      "image/png": "[encoded data removed]",
      "text/plain": [
       "<Figure size 720x504 with 2 Axes>"
      ]
     },
     "metadata": {
      "needs_background": "light"
     },
     "output_type": "display_data"
    }
   ],
   "source": [
    "#Visualize correlations of features with a heatmap\n",
    "plt.figure(figsize = (10,7))\n",
    "sns.heatmap(training_set.corr(), annot = True, linewidths = 0.5, cmap = 'cubehelix_r')"
   ]
  },
  {
   "cell_type": "markdown",
   "metadata": {
    "_uuid": "80d230cab1272ae29e84bedee549fac61213d268"
   },
   "source": [
    "## Prepare the data ##\n",
    "### Data preprocessing/Cleaning ###\n",
    "\n",
    "In this section, I will prepare the data by splitting the features and target/labels column, I will check for the quality of given data, and perform data cleaning. As this is a Kaggle dataset they have already split the data into a training set and a validation/test set to check the accuracy of the predictions.\n",
    "\n",
    "**2.1 Data Cleaning**\n",
    "\n",
    "Checking for any missing values in our datasets."
   ]
  },
  {
   "cell_type": "code",
   "execution_count": 24,
   "metadata": {
    "_uuid": "d0a6dba498f5a222221a4f5e3d3ae64f18edfa79"
   },
   "outputs": [
    {
     "data": {
      "text/html": [
       "<div>\n",
       "<style scoped>\n",
       "    .dataframe tbody tr th:only-of-type {\n",
       "        vertical-align: middle;\n",
       "    }\n",
       "\n",
       "    .dataframe tbody tr th {\n",
       "        vertical-align: top;\n",
       "    }\n",
       "\n",
       "    .dataframe thead th {\n",
       "        text-align: right;\n",
       "    }\n",
       "</style>\n",
       "<table border=\"1\" class=\"dataframe\">\n",
       "  <thead>\n",
       "    <tr style=\"text-align: right;\">\n",
       "      <th></th>\n",
       "      <th>Total</th>\n",
       "      <th>Percentage</th>\n",
       "    </tr>\n",
       "  </thead>\n",
       "  <tbody>\n",
       "    <tr>\n",
       "      <th>target</th>\n",
       "      <td>0</td>\n",
       "      <td>0.0</td>\n",
       "    </tr>\n",
       "    <tr>\n",
       "      <th>feature_3</th>\n",
       "      <td>0</td>\n",
       "      <td>0.0</td>\n",
       "    </tr>\n",
       "    <tr>\n",
       "      <th>feature_2</th>\n",
       "      <td>0</td>\n",
       "      <td>0.0</td>\n",
       "    </tr>\n",
       "    <tr>\n",
       "      <th>feature_1</th>\n",
       "      <td>0</td>\n",
       "      <td>0.0</td>\n",
       "    </tr>\n",
       "    <tr>\n",
       "      <th>card_id</th>\n",
       "      <td>0</td>\n",
       "      <td>0.0</td>\n",
       "    </tr>\n",
       "    <tr>\n",
       "      <th>first_active_month</th>\n",
       "      <td>0</td>\n",
       "      <td>0.0</td>\n",
       "    </tr>\n",
       "  </tbody>\n",
       "</table>\n",
       "</div>"
      ],
      "text/plain": [
       "                    Total  Percentage\n",
       "target                  0         0.0\n",
       "feature_3               0         0.0\n",
       "feature_2               0         0.0\n",
       "feature_1               0         0.0\n",
       "card_id                 0         0.0\n",
       "first_active_month      0         0.0"
      ]
     },
     "execution_count": 24,
     "metadata": {},
     "output_type": "execute_result"
    }
   ],
   "source": [
    "#Training Missing Values\n",
    "total=training_set.isnull().sum().sort_values(ascending = False)\n",
    "percentage=(training_set.isnull().sum()/training_set.isnull().count()*100).sort_values(ascending=False)\n",
    "\n",
    "missing_data=pd.concat([total,percentage],axis=1,keys=['Total','Percentage'])\n",
    "missing_data.head(10)"
   ]
  },
  {
   "cell_type": "code",
   "execution_count": 25,
   "metadata": {
    "_uuid": "9fad7ad56b280b99628e59ab2eb78c6c81119a87"
   },
   "outputs": [
    {
     "data": {
      "text/html": [
       "<div>\n",
       "<style scoped>\n",
       "    .dataframe tbody tr th:only-of-type {\n",
       "        vertical-align: middle;\n",
       "    }\n",
       "\n",
       "    .dataframe tbody tr th {\n",
       "        vertical-align: top;\n",
       "    }\n",
       "\n",
       "    .dataframe thead th {\n",
       "        text-align: right;\n",
       "    }\n",
       "</style>\n",
       "<table border=\"1\" class=\"dataframe\">\n",
       "  <thead>\n",
       "    <tr style=\"text-align: right;\">\n",
       "      <th></th>\n",
       "      <th>Total</th>\n",
       "      <th>Percentage</th>\n",
       "    </tr>\n",
       "  </thead>\n",
       "  <tbody>\n",
       "    <tr>\n",
       "      <th>first_active_month</th>\n",
       "      <td>1</td>\n",
       "      <td>0.000809</td>\n",
       "    </tr>\n",
       "    <tr>\n",
       "      <th>feature_3</th>\n",
       "      <td>0</td>\n",
       "      <td>0.000000</td>\n",
       "    </tr>\n",
       "    <tr>\n",
       "      <th>feature_2</th>\n",
       "      <td>0</td>\n",
       "      <td>0.000000</td>\n",
       "    </tr>\n",
       "    <tr>\n",
       "      <th>feature_1</th>\n",
       "      <td>0</td>\n",
       "      <td>0.000000</td>\n",
       "    </tr>\n",
       "    <tr>\n",
       "      <th>card_id</th>\n",
       "      <td>0</td>\n",
       "      <td>0.000000</td>\n",
       "    </tr>\n",
       "  </tbody>\n",
       "</table>\n",
       "</div>"
      ],
      "text/plain": [
       "                    Total  Percentage\n",
       "first_active_month      1    0.000809\n",
       "feature_3               0    0.000000\n",
       "feature_2               0    0.000000\n",
       "feature_1               0    0.000000\n",
       "card_id                 0    0.000000"
      ]
     },
     "execution_count": 25,
     "metadata": {},
     "output_type": "execute_result"
    }
   ],
   "source": [
    "#Test missing values\n",
    "total=test_set.isnull().sum().sort_values(ascending = False)\n",
    "percentage=(test_set.isnull().sum()/test_set.isnull().count()*100).sort_values(ascending=False)\n",
    "\n",
    "missing_data=pd.concat([total,percentage],axis=1,keys=['Total','Percentage'])\n",
    "missing_data.head(10)"
   ]
  },
  {
   "cell_type": "code",
   "execution_count": 26,
   "metadata": {
    "_uuid": "e93ad95beab21614815dfec84951adc13c282e4e"
   },
   "outputs": [
    {
     "data": {
      "text/html": [
       "<div>\n",
       "<style scoped>\n",
       "    .dataframe tbody tr th:only-of-type {\n",
       "        vertical-align: middle;\n",
       "    }\n",
       "\n",
       "    .dataframe tbody tr th {\n",
       "        vertical-align: top;\n",
       "    }\n",
       "\n",
       "    .dataframe thead th {\n",
       "        text-align: right;\n",
       "    }\n",
       "</style>\n",
       "<table border=\"1\" class=\"dataframe\">\n",
       "  <thead>\n",
       "    <tr style=\"text-align: right;\">\n",
       "      <th></th>\n",
       "      <th>Total</th>\n",
       "      <th>Percentage</th>\n",
       "    </tr>\n",
       "  </thead>\n",
       "  <tbody>\n",
       "    <tr>\n",
       "      <th>category_2</th>\n",
       "      <td>2652864</td>\n",
       "      <td>9.112500</td>\n",
       "    </tr>\n",
       "    <tr>\n",
       "      <th>category_3</th>\n",
       "      <td>178159</td>\n",
       "      <td>0.611970</td>\n",
       "    </tr>\n",
       "    <tr>\n",
       "      <th>merchant_id</th>\n",
       "      <td>138481</td>\n",
       "      <td>0.475678</td>\n",
       "    </tr>\n",
       "    <tr>\n",
       "      <th>subsector_id</th>\n",
       "      <td>0</td>\n",
       "      <td>0.000000</td>\n",
       "    </tr>\n",
       "    <tr>\n",
       "      <th>state_id</th>\n",
       "      <td>0</td>\n",
       "      <td>0.000000</td>\n",
       "    </tr>\n",
       "    <tr>\n",
       "      <th>purchase_date</th>\n",
       "      <td>0</td>\n",
       "      <td>0.000000</td>\n",
       "    </tr>\n",
       "    <tr>\n",
       "      <th>purchase_amount</th>\n",
       "      <td>0</td>\n",
       "      <td>0.000000</td>\n",
       "    </tr>\n",
       "    <tr>\n",
       "      <th>month_lag</th>\n",
       "      <td>0</td>\n",
       "      <td>0.000000</td>\n",
       "    </tr>\n",
       "    <tr>\n",
       "      <th>merchant_category_id</th>\n",
       "      <td>0</td>\n",
       "      <td>0.000000</td>\n",
       "    </tr>\n",
       "    <tr>\n",
       "      <th>installments</th>\n",
       "      <td>0</td>\n",
       "      <td>0.000000</td>\n",
       "    </tr>\n",
       "    <tr>\n",
       "      <th>category_1</th>\n",
       "      <td>0</td>\n",
       "      <td>0.000000</td>\n",
       "    </tr>\n",
       "    <tr>\n",
       "      <th>city_id</th>\n",
       "      <td>0</td>\n",
       "      <td>0.000000</td>\n",
       "    </tr>\n",
       "    <tr>\n",
       "      <th>card_id</th>\n",
       "      <td>0</td>\n",
       "      <td>0.000000</td>\n",
       "    </tr>\n",
       "    <tr>\n",
       "      <th>authorized_flag</th>\n",
       "      <td>0</td>\n",
       "      <td>0.000000</td>\n",
       "    </tr>\n",
       "  </tbody>\n",
       "</table>\n",
       "</div>"
      ],
      "text/plain": [
       "                        Total  Percentage\n",
       "category_2            2652864    9.112500\n",
       "category_3             178159    0.611970\n",
       "merchant_id            138481    0.475678\n",
       "subsector_id                0    0.000000\n",
       "state_id                    0    0.000000\n",
       "purchase_date               0    0.000000\n",
       "purchase_amount             0    0.000000\n",
       "month_lag                   0    0.000000\n",
       "merchant_category_id        0    0.000000\n",
       "installments                0    0.000000\n",
       "category_1                  0    0.000000\n",
       "city_id                     0    0.000000\n",
       "card_id                     0    0.000000\n",
       "authorized_flag             0    0.000000"
      ]
     },
     "execution_count": 26,
     "metadata": {},
     "output_type": "execute_result"
    }
   ],
   "source": [
    "#Historical Transactions missing values\n",
    "total=historical_trans.isnull().sum().sort_values(ascending = False)\n",
    "percentage=(historical_trans.isnull().sum()/historical_trans.isnull().count()*100).sort_values(ascending=False)\n",
    "\n",
    "missing_data=pd.concat([total,percentage],axis=1,keys=['Total','Percentage'])\n",
    "missing_data"
   ]
  },
  {
   "cell_type": "code",
   "execution_count": 27,
   "metadata": {
    "_uuid": "4660d736d78dacb79555ea659df8c0dfb6e931ac"
   },
   "outputs": [
    {
     "data": {
      "text/html": [
       "<div>\n",
       "<style scoped>\n",
       "    .dataframe tbody tr th:only-of-type {\n",
       "        vertical-align: middle;\n",
       "    }\n",
       "\n",
       "    .dataframe tbody tr th {\n",
       "        vertical-align: top;\n",
       "    }\n",
       "\n",
       "    .dataframe thead th {\n",
       "        text-align: right;\n",
       "    }\n",
       "</style>\n",
       "<table border=\"1\" class=\"dataframe\">\n",
       "  <thead>\n",
       "    <tr style=\"text-align: right;\">\n",
       "      <th></th>\n",
       "      <th>Total</th>\n",
       "      <th>Percentage</th>\n",
       "    </tr>\n",
       "  </thead>\n",
       "  <tbody>\n",
       "    <tr>\n",
       "      <th>category_2</th>\n",
       "      <td>111745</td>\n",
       "      <td>5.692473</td>\n",
       "    </tr>\n",
       "    <tr>\n",
       "      <th>category_3</th>\n",
       "      <td>55922</td>\n",
       "      <td>2.848758</td>\n",
       "    </tr>\n",
       "    <tr>\n",
       "      <th>merchant_id</th>\n",
       "      <td>26216</td>\n",
       "      <td>1.335486</td>\n",
       "    </tr>\n",
       "    <tr>\n",
       "      <th>subsector_id</th>\n",
       "      <td>0</td>\n",
       "      <td>0.000000</td>\n",
       "    </tr>\n",
       "    <tr>\n",
       "      <th>state_id</th>\n",
       "      <td>0</td>\n",
       "      <td>0.000000</td>\n",
       "    </tr>\n",
       "    <tr>\n",
       "      <th>purchase_date</th>\n",
       "      <td>0</td>\n",
       "      <td>0.000000</td>\n",
       "    </tr>\n",
       "    <tr>\n",
       "      <th>purchase_amount</th>\n",
       "      <td>0</td>\n",
       "      <td>0.000000</td>\n",
       "    </tr>\n",
       "    <tr>\n",
       "      <th>month_lag</th>\n",
       "      <td>0</td>\n",
       "      <td>0.000000</td>\n",
       "    </tr>\n",
       "    <tr>\n",
       "      <th>merchant_category_id</th>\n",
       "      <td>0</td>\n",
       "      <td>0.000000</td>\n",
       "    </tr>\n",
       "    <tr>\n",
       "      <th>installments</th>\n",
       "      <td>0</td>\n",
       "      <td>0.000000</td>\n",
       "    </tr>\n",
       "    <tr>\n",
       "      <th>category_1</th>\n",
       "      <td>0</td>\n",
       "      <td>0.000000</td>\n",
       "    </tr>\n",
       "    <tr>\n",
       "      <th>city_id</th>\n",
       "      <td>0</td>\n",
       "      <td>0.000000</td>\n",
       "    </tr>\n",
       "    <tr>\n",
       "      <th>card_id</th>\n",
       "      <td>0</td>\n",
       "      <td>0.000000</td>\n",
       "    </tr>\n",
       "    <tr>\n",
       "      <th>authorized_flag</th>\n",
       "      <td>0</td>\n",
       "      <td>0.000000</td>\n",
       "    </tr>\n",
       "  </tbody>\n",
       "</table>\n",
       "</div>"
      ],
      "text/plain": [
       "                       Total  Percentage\n",
       "category_2            111745    5.692473\n",
       "category_3             55922    2.848758\n",
       "merchant_id            26216    1.335486\n",
       "subsector_id               0    0.000000\n",
       "state_id                   0    0.000000\n",
       "purchase_date              0    0.000000\n",
       "purchase_amount            0    0.000000\n",
       "month_lag                  0    0.000000\n",
       "merchant_category_id       0    0.000000\n",
       "installments               0    0.000000\n",
       "category_1                 0    0.000000\n",
       "city_id                    0    0.000000\n",
       "card_id                    0    0.000000\n",
       "authorized_flag            0    0.000000"
      ]
     },
     "execution_count": 27,
     "metadata": {},
     "output_type": "execute_result"
    }
   ],
   "source": [
    "#New merchant transactions missing values \n",
    "total=new_merchant_trans.isnull().sum().sort_values(ascending=False)\n",
    "percentage=(new_merchant_trans.isnull().sum()/new_merchant_trans.isnull().count() * 100).sort_values(ascending=False)\n",
    "\n",
    "missing_data=pd.concat([total,percentage],axis=1,keys=['Total','Percentage'])\n",
    "\n",
    "missing_data"
   ]
  },
  {
   "cell_type": "markdown",
   "metadata": {
    "_uuid": "5358753c91b125bc5a37ef32ff8112bb1569013d"
   },
   "source": [
    "**2.2 Identify feature and target columns**"
   ]
  },
  {
   "cell_type": "code",
   "execution_count": 28,
   "metadata": {
    "_uuid": "1a457a6c55440603ac5ca41bb5f34abb97bcffcf"
   },
   "outputs": [
    {
     "data": {
      "text/html": [
       "<div>\n",
       "<style scoped>\n",
       "    .dataframe tbody tr th:only-of-type {\n",
       "        vertical-align: middle;\n",
       "    }\n",
       "\n",
       "    .dataframe tbody tr th {\n",
       "        vertical-align: top;\n",
       "    }\n",
       "\n",
       "    .dataframe thead th {\n",
       "        text-align: right;\n",
       "    }\n",
       "</style>\n",
       "<table border=\"1\" class=\"dataframe\">\n",
       "  <thead>\n",
       "    <tr style=\"text-align: right;\">\n",
       "      <th></th>\n",
       "      <th>first_active_month</th>\n",
       "      <th>card_id</th>\n",
       "      <th>feature_1</th>\n",
       "      <th>feature_2</th>\n",
       "      <th>feature_3</th>\n",
       "      <th>target</th>\n",
       "      <th>year</th>\n",
       "      <th>month</th>\n",
       "      <th>elasped_time</th>\n",
       "    </tr>\n",
       "  </thead>\n",
       "  <tbody>\n",
       "    <tr>\n",
       "      <th>0</th>\n",
       "      <td>2017-06-01</td>\n",
       "      <td>C_ID_92a2005557</td>\n",
       "      <td>5</td>\n",
       "      <td>2</td>\n",
       "      <td>1</td>\n",
       "      <td>-0.820283</td>\n",
       "      <td>2017</td>\n",
       "      <td>6</td>\n",
       "      <td>245</td>\n",
       "    </tr>\n",
       "    <tr>\n",
       "      <th>1</th>\n",
       "      <td>2017-01-01</td>\n",
       "      <td>C_ID_3d0044924f</td>\n",
       "      <td>4</td>\n",
       "      <td>1</td>\n",
       "      <td>0</td>\n",
       "      <td>0.392913</td>\n",
       "      <td>2017</td>\n",
       "      <td>1</td>\n",
       "      <td>396</td>\n",
       "    </tr>\n",
       "    <tr>\n",
       "      <th>2</th>\n",
       "      <td>2016-08-01</td>\n",
       "      <td>C_ID_d639edf6cd</td>\n",
       "      <td>2</td>\n",
       "      <td>2</td>\n",
       "      <td>0</td>\n",
       "      <td>0.688056</td>\n",
       "      <td>2016</td>\n",
       "      <td>8</td>\n",
       "      <td>549</td>\n",
       "    </tr>\n",
       "    <tr>\n",
       "      <th>3</th>\n",
       "      <td>2017-09-01</td>\n",
       "      <td>C_ID_186d6a6901</td>\n",
       "      <td>4</td>\n",
       "      <td>3</td>\n",
       "      <td>0</td>\n",
       "      <td>0.142495</td>\n",
       "      <td>2017</td>\n",
       "      <td>9</td>\n",
       "      <td>153</td>\n",
       "    </tr>\n",
       "    <tr>\n",
       "      <th>4</th>\n",
       "      <td>2017-11-01</td>\n",
       "      <td>C_ID_cdbd2c0db2</td>\n",
       "      <td>1</td>\n",
       "      <td>3</td>\n",
       "      <td>0</td>\n",
       "      <td>-0.159749</td>\n",
       "      <td>2017</td>\n",
       "      <td>11</td>\n",
       "      <td>92</td>\n",
       "    </tr>\n",
       "  </tbody>\n",
       "</table>\n",
       "</div>"
      ],
      "text/plain": [
       "  first_active_month          card_id  feature_1  feature_2  feature_3  \\\n",
       "0         2017-06-01  C_ID_92a2005557          5          2          1   \n",
       "1         2017-01-01  C_ID_3d0044924f          4          1          0   \n",
       "2         2016-08-01  C_ID_d639edf6cd          2          2          0   \n",
       "3         2017-09-01  C_ID_186d6a6901          4          3          0   \n",
       "4         2017-11-01  C_ID_cdbd2c0db2          1          3          0   \n",
       "\n",
       "     target  year  month  elasped_time  \n",
       "0 -0.820283  2017      6           245  \n",
       "1  0.392913  2017      1           396  \n",
       "2  0.688056  2016      8           549  \n",
       "3  0.142495  2017      9           153  \n",
       "4 -0.159749  2017     11            92  "
      ]
     },
     "execution_count": 28,
     "metadata": {},
     "output_type": "execute_result"
    }
   ],
   "source": [
    "#Formatting the date\n",
    "for data in [training_set, test_set]:\n",
    "    data['first_active_month'] = pd.to_datetime(data['first_active_month'])\n",
    "    data['year'] = data['first_active_month'].dt.year\n",
    "    data['month'] = data['first_active_month'].dt.month\n",
    "    \n",
    "    data['elasped_time'] = (datetime.date(2018, 2, 1) - data['first_active_month'].dt.date).dt.days\n",
    "\n",
    "# Identifying the target columns\n",
    "y_train = training_set['target']\n",
    "training_set.head()"
   ]
  },
  {
   "cell_type": "code",
   "execution_count": 29,
   "metadata": {
    "_uuid": "e74ade45cdd05f9d41c94d26928d2368fc73fa7c"
   },
   "outputs": [
    {
     "data": {
      "image/png": "[encoded data removed]",
      "text/plain": [
       "<Figure size 1080x864 with 1 Axes>"
      ]
     },
     "metadata": {
      "needs_background": "light"
     },
     "output_type": "display_data"
    },
    {
     "data": {
      "image/png": "[encoded data removed]",
      "text/plain": [
       "<Figure size 1080x864 with 1 Axes>"
      ]
     },
     "metadata": {
      "needs_background": "light"
     },
     "output_type": "display_data"
    }
   ],
   "source": [
    "# Visualizing numbers of card and the amount of purchases\n",
    "cnt_srs = training_set['first_active_month'].dt.date.value_counts()\n",
    "cnt_srs = cnt_srs.sort_index()\n",
    "plt.figure(figsize = (15, 12))\n",
    "sns.barplot(cnt_srs.index, cnt_srs.values, alpha = 1, color = 'red')\n",
    "plt.xticks(rotation = 'vertical')\n",
    "plt.title('First active month count in Training Set')\n",
    "plt.xlabel('First active month')\n",
    "plt.ylabel('Numbers of cards')\n",
    "\n",
    "plt.show()\n",
    "\n",
    "\n",
    "cnt_srs = test_set['first_active_month'].dt.date.value_counts()\n",
    "cnt_srs = cnt_srs.sort_index()\n",
    "plt.figure(figsize = (15, 12))\n",
    "sns.barplot(cnt_srs.index, cnt_srs.values, alpha = 1, color = 'red')\n",
    "plt.xticks(rotation = 'vertical')\n",
    "plt.title('First active month count in Test Set')\n",
    "plt.xlabel('First active month')\n",
    "plt.ylabel('Numbers of cards')\n",
    "\n",
    "plt.show()"
   ]
  },
  {
   "cell_type": "markdown",
   "metadata": {
    "_uuid": "d44ac73f2e3390eebd3362972b5c3c24655c0cbe"
   },
   "source": [
    "It is visible to see that most of the first purchases came in the years of 2016 and 2017 the trend started to increase, starting in 2011 and continued till 2014. In 2015 the number of purchases increase at a much faster rate than before, this could indicate the amount of trust that customer place in Elo services."
   ]
  },
  {
   "cell_type": "code",
   "execution_count": 30,
   "metadata": {
    "_uuid": "38000481837b2551d6485dc6519ff1ec40a98f22"
   },
   "outputs": [
    {
     "data": {
      "text/plain": [
       "<matplotlib.axes._subplots.AxesSubplot at 0x1a21b28ef0>"
      ]
     },
     "execution_count": 30,
     "metadata": {},
     "output_type": "execute_result"
    },
    {
     "data": {
      "image/png": "[encoded data removed]",
      "text/plain": [
       "<Figure size 1080x648 with 2 Axes>"
      ]
     },
     "metadata": {
      "needs_background": "light"
     },
     "output_type": "display_data"
    }
   ],
   "source": [
    "plt.figure(figsize=(15,9))\n",
    "sns.heatmap(merchants.corr(), annot = True)"
   ]
  },
  {
   "cell_type": "markdown",
   "metadata": {
    "_uuid": "6ca5bde1f0056901bbf3e4ea777b2636cdd7eda5"
   },
   "source": [
    "**2.3 Merging the datasets**\n",
    "\n",
    "As was noted through the exploration of the training set we might need more features to make better predictions. To do this we need to merge the different datasets into one main dataset together in the following manner:\n",
    "\n",
    "1. Convert any binary values.\n",
    "2. Use the aggregation function to group multiple rows together to get one value.\n",
    "3. Merge those aggregated columns on `card_id` which is a column that is shared on all three datasets."
   ]
  },
  {
   "cell_type": "code",
   "execution_count": 31,
   "metadata": {
    "_uuid": "b9d4bd08514d430ca237a5d47e59246b4f81df63"
   },
   "outputs": [],
   "source": [
    "# Converting the binary values\n",
    "historical_trans['authorized_flag'] = historical_trans['authorized_flag'].map({'Y':1, 'N':0})"
   ]
  },
  {
   "cell_type": "code",
   "execution_count": 32,
   "metadata": {
    "_uuid": "6b810a4dae42930e9dafe710efa834d2d4e7d79f"
   },
   "outputs": [],
   "source": [
    "historical_trans.loc[:,'purchase_date']=pd.DatetimeIndex(historical_trans['purchase_date']).astype(np.int64)*1e-9\n",
    "\n",
    "# aggregate function\n",
    "agg_func = {\n",
    "        'authorized_flag': ['sum', 'mean'],\n",
    "        'merchant_id': ['nunique'],\n",
    "        'city_id': ['nunique'],\n",
    "        'purchase_amount': ['sum', 'median', 'max', 'min', 'std'],\n",
    "        'installments': ['sum', 'median', 'max', 'min', 'std'],\n",
    "        'purchase_date': [np.ptp],\n",
    "        'month_lag': ['min', 'max']\n",
    "        }\n",
    "agg_history=historical_trans.groupby(['card_id']).agg(agg_func)\n",
    "agg_history.columns=['hist_' + '-'.join(col).strip() for col in agg_history.columns.values]\n",
    "agg_history.reset_index(inplace=True)"
   ]
  },
  {
   "cell_type": "markdown",
   "metadata": {
    "_uuid": "3a799fb311b4b82e49d4fb02f029b910e5b5b8ee"
   },
   "source": [
    "The features that I aggregated together were the following:\n",
    "\n",
    "* authorized_flag\n",
    "* merchant_id\n",
    "* city_id\n",
    "* purchase_amount\n",
    "* installments\n",
    "* purchase_date\n",
    "* month_lag\n",
    "\n",
    "I have choosen not add the features of categories 1, 2, or 3 because they seemed to share similar information to the feature 1, 2, and 3 that are already in the training and test datasets."
   ]
  },
  {
   "cell_type": "code",
   "execution_count": 33,
   "metadata": {
    "_uuid": "41760c68cadf8d5225ab8c05021421cd1bfc4f3e"
   },
   "outputs": [
    {
     "data": {
      "text/html": [
       "<div>\n",
       "<style scoped>\n",
       "    .dataframe tbody tr th:only-of-type {\n",
       "        vertical-align: middle;\n",
       "    }\n",
       "\n",
       "    .dataframe tbody tr th {\n",
       "        vertical-align: top;\n",
       "    }\n",
       "\n",
       "    .dataframe thead th {\n",
       "        text-align: right;\n",
       "    }\n",
       "</style>\n",
       "<table border=\"1\" class=\"dataframe\">\n",
       "  <thead>\n",
       "    <tr style=\"text-align: right;\">\n",
       "      <th></th>\n",
       "      <th>card_id</th>\n",
       "      <th>historical_trans_count</th>\n",
       "      <th>hist_authorized_flag-sum</th>\n",
       "      <th>hist_authorized_flag-mean</th>\n",
       "      <th>hist_merchant_id-nunique</th>\n",
       "      <th>hist_city_id-nunique</th>\n",
       "      <th>hist_purchase_amount-sum</th>\n",
       "      <th>hist_purchase_amount-median</th>\n",
       "      <th>hist_purchase_amount-max</th>\n",
       "      <th>hist_purchase_amount-min</th>\n",
       "      <th>hist_purchase_amount-std</th>\n",
       "      <th>hist_installments-sum</th>\n",
       "      <th>hist_installments-median</th>\n",
       "      <th>hist_installments-max</th>\n",
       "      <th>hist_installments-min</th>\n",
       "      <th>hist_installments-std</th>\n",
       "      <th>hist_purchase_date-ptp</th>\n",
       "      <th>hist_month_lag-min</th>\n",
       "      <th>hist_month_lag-max</th>\n",
       "    </tr>\n",
       "  </thead>\n",
       "  <tbody>\n",
       "    <tr>\n",
       "      <th>0</th>\n",
       "      <td>C_ID_00007093c1</td>\n",
       "      <td>1</td>\n",
       "      <td>114</td>\n",
       "      <td>0.765101</td>\n",
       "      <td>29</td>\n",
       "      <td>4</td>\n",
       "      <td>-76.845041</td>\n",
       "      <td>-0.587627</td>\n",
       "      <td>1.507069</td>\n",
       "      <td>-0.728876</td>\n",
       "      <td>0.298141</td>\n",
       "      <td>192</td>\n",
       "      <td>1.0</td>\n",
       "      <td>6</td>\n",
       "      <td>1</td>\n",
       "      <td>0.764900</td>\n",
       "      <td>32627654.0</td>\n",
       "      <td>-12</td>\n",
       "      <td>0</td>\n",
       "    </tr>\n",
       "    <tr>\n",
       "      <th>1</th>\n",
       "      <td>C_ID_0001238066</td>\n",
       "      <td>1</td>\n",
       "      <td>120</td>\n",
       "      <td>0.975610</td>\n",
       "      <td>65</td>\n",
       "      <td>18</td>\n",
       "      <td>-72.447201</td>\n",
       "      <td>-0.648184</td>\n",
       "      <td>0.768095</td>\n",
       "      <td>-0.734887</td>\n",
       "      <td>0.190235</td>\n",
       "      <td>198</td>\n",
       "      <td>1.0</td>\n",
       "      <td>10</td>\n",
       "      <td>-1</td>\n",
       "      <td>1.485637</td>\n",
       "      <td>13110825.0</td>\n",
       "      <td>-5</td>\n",
       "      <td>0</td>\n",
       "    </tr>\n",
       "    <tr>\n",
       "      <th>2</th>\n",
       "      <td>C_ID_0001506ef0</td>\n",
       "      <td>1</td>\n",
       "      <td>62</td>\n",
       "      <td>0.939394</td>\n",
       "      <td>28</td>\n",
       "      <td>3</td>\n",
       "      <td>-34.601879</td>\n",
       "      <td>-0.703707</td>\n",
       "      <td>1.493545</td>\n",
       "      <td>-0.740491</td>\n",
       "      <td>0.472284</td>\n",
       "      <td>1</td>\n",
       "      <td>0.0</td>\n",
       "      <td>1</td>\n",
       "      <td>0</td>\n",
       "      <td>0.123091</td>\n",
       "      <td>34460275.0</td>\n",
       "      <td>-13</td>\n",
       "      <td>0</td>\n",
       "    </tr>\n",
       "    <tr>\n",
       "      <th>3</th>\n",
       "      <td>C_ID_0001793786</td>\n",
       "      <td>1</td>\n",
       "      <td>189</td>\n",
       "      <td>0.875000</td>\n",
       "      <td>119</td>\n",
       "      <td>10</td>\n",
       "      <td>-36.786013</td>\n",
       "      <td>-0.487911</td>\n",
       "      <td>4.554145</td>\n",
       "      <td>-0.745405</td>\n",
       "      <td>0.836046</td>\n",
       "      <td>5</td>\n",
       "      <td>0.0</td>\n",
       "      <td>1</td>\n",
       "      <td>0</td>\n",
       "      <td>0.150723</td>\n",
       "      <td>24487497.0</td>\n",
       "      <td>-9</td>\n",
       "      <td>0</td>\n",
       "    </tr>\n",
       "    <tr>\n",
       "      <th>4</th>\n",
       "      <td>C_ID_000183fdda</td>\n",
       "      <td>1</td>\n",
       "      <td>137</td>\n",
       "      <td>0.951389</td>\n",
       "      <td>73</td>\n",
       "      <td>9</td>\n",
       "      <td>-68.837938</td>\n",
       "      <td>-0.661294</td>\n",
       "      <td>2.764788</td>\n",
       "      <td>-0.737892</td>\n",
       "      <td>0.524948</td>\n",
       "      <td>264</td>\n",
       "      <td>1.0</td>\n",
       "      <td>10</td>\n",
       "      <td>-1</td>\n",
       "      <td>2.118846</td>\n",
       "      <td>17492874.0</td>\n",
       "      <td>-6</td>\n",
       "      <td>0</td>\n",
       "    </tr>\n",
       "  </tbody>\n",
       "</table>\n",
       "</div>"
      ],
      "text/plain": [
       "           card_id  historical_trans_count  hist_authorized_flag-sum  \\\n",
       "0  C_ID_00007093c1                       1                       114   \n",
       "1  C_ID_0001238066                       1                       120   \n",
       "2  C_ID_0001506ef0                       1                        62   \n",
       "3  C_ID_0001793786                       1                       189   \n",
       "4  C_ID_000183fdda                       1                       137   \n",
       "\n",
       "   hist_authorized_flag-mean  hist_merchant_id-nunique  hist_city_id-nunique  \\\n",
       "0                   0.765101                        29                     4   \n",
       "1                   0.975610                        65                    18   \n",
       "2                   0.939394                        28                     3   \n",
       "3                   0.875000                       119                    10   \n",
       "4                   0.951389                        73                     9   \n",
       "\n",
       "   hist_purchase_amount-sum  hist_purchase_amount-median  \\\n",
       "0                -76.845041                    -0.587627   \n",
       "1                -72.447201                    -0.648184   \n",
       "2                -34.601879                    -0.703707   \n",
       "3                -36.786013                    -0.487911   \n",
       "4                -68.837938                    -0.661294   \n",
       "\n",
       "   hist_purchase_amount-max  hist_purchase_amount-min  \\\n",
       "0                  1.507069                 -0.728876   \n",
       "1                  0.768095                 -0.734887   \n",
       "2                  1.493545                 -0.740491   \n",
       "3                  4.554145                 -0.745405   \n",
       "4                  2.764788                 -0.737892   \n",
       "\n",
       "   hist_purchase_amount-std  hist_installments-sum  hist_installments-median  \\\n",
       "0                  0.298141                    192                       1.0   \n",
       "1                  0.190235                    198                       1.0   \n",
       "2                  0.472284                      1                       0.0   \n",
       "3                  0.836046                      5                       0.0   \n",
       "4                  0.524948                    264                       1.0   \n",
       "\n",
       "   hist_installments-max  hist_installments-min  hist_installments-std  \\\n",
       "0                      6                      1               0.764900   \n",
       "1                     10                     -1               1.485637   \n",
       "2                      1                      0               0.123091   \n",
       "3                      1                      0               0.150723   \n",
       "4                     10                     -1               2.118846   \n",
       "\n",
       "   hist_purchase_date-ptp  hist_month_lag-min  hist_month_lag-max  \n",
       "0              32627654.0                 -12                   0  \n",
       "1              13110825.0                  -5                   0  \n",
       "2              34460275.0                 -13                   0  \n",
       "3              24487497.0                  -9                   0  \n",
       "4              17492874.0                  -6                   0  "
      ]
     },
     "execution_count": 33,
     "metadata": {},
     "output_type": "execute_result"
    }
   ],
   "source": [
    "df = agg_history.groupby(['card_id']).size().reset_index(name = 'historical_trans_count')\n",
    "agg_history = pd.merge(df, agg_history, on = 'card_id', how = 'left')\n",
    "\n",
    "# Displaying the aggregated data\n",
    "agg_history.head()"
   ]
  },
  {
   "cell_type": "code",
   "execution_count": 34,
   "metadata": {
    "_uuid": "59e2fca9f1b8478d9a0951c52a04ceb5b10c5d19"
   },
   "outputs": [],
   "source": [
    "# Merging the training, test dataset together with the historical_transactions dataset\n",
    "training_set = pd.merge(training_set, agg_history, on = 'card_id', how = 'left')\n",
    "test_set = pd.merge(test_set, agg_history, on = 'card_id', how = 'left')"
   ]
  },
  {
   "cell_type": "code",
   "execution_count": 35,
   "metadata": {
    "_uuid": "ed7f087970a80832afd272144d96689793cd5467"
   },
   "outputs": [
    {
     "data": {
      "text/html": [
       "<div>\n",
       "<style scoped>\n",
       "    .dataframe tbody tr th:only-of-type {\n",
       "        vertical-align: middle;\n",
       "    }\n",
       "\n",
       "    .dataframe tbody tr th {\n",
       "        vertical-align: top;\n",
       "    }\n",
       "\n",
       "    .dataframe thead th {\n",
       "        text-align: right;\n",
       "    }\n",
       "</style>\n",
       "<table border=\"1\" class=\"dataframe\">\n",
       "  <thead>\n",
       "    <tr style=\"text-align: right;\">\n",
       "      <th></th>\n",
       "      <th>first_active_month</th>\n",
       "      <th>card_id</th>\n",
       "      <th>feature_1</th>\n",
       "      <th>feature_2</th>\n",
       "      <th>feature_3</th>\n",
       "      <th>target</th>\n",
       "      <th>year</th>\n",
       "      <th>month</th>\n",
       "      <th>elasped_time</th>\n",
       "      <th>historical_trans_count</th>\n",
       "      <th>...</th>\n",
       "      <th>hist_purchase_amount-min</th>\n",
       "      <th>hist_purchase_amount-std</th>\n",
       "      <th>hist_installments-sum</th>\n",
       "      <th>hist_installments-median</th>\n",
       "      <th>hist_installments-max</th>\n",
       "      <th>hist_installments-min</th>\n",
       "      <th>hist_installments-std</th>\n",
       "      <th>hist_purchase_date-ptp</th>\n",
       "      <th>hist_month_lag-min</th>\n",
       "      <th>hist_month_lag-max</th>\n",
       "    </tr>\n",
       "  </thead>\n",
       "  <tbody>\n",
       "    <tr>\n",
       "      <th>0</th>\n",
       "      <td>2017-06-01</td>\n",
       "      <td>C_ID_92a2005557</td>\n",
       "      <td>5</td>\n",
       "      <td>2</td>\n",
       "      <td>1</td>\n",
       "      <td>-0.820283</td>\n",
       "      <td>2017</td>\n",
       "      <td>6</td>\n",
       "      <td>245</td>\n",
       "      <td>1</td>\n",
       "      <td>...</td>\n",
       "      <td>-0.739395</td>\n",
       "      <td>0.212139</td>\n",
       "      <td>4</td>\n",
       "      <td>0.0</td>\n",
       "      <td>1</td>\n",
       "      <td>0</td>\n",
       "      <td>0.123314</td>\n",
       "      <td>20977987.0</td>\n",
       "      <td>-8</td>\n",
       "      <td>0</td>\n",
       "    </tr>\n",
       "    <tr>\n",
       "      <th>1</th>\n",
       "      <td>2017-01-01</td>\n",
       "      <td>C_ID_3d0044924f</td>\n",
       "      <td>4</td>\n",
       "      <td>1</td>\n",
       "      <td>0</td>\n",
       "      <td>0.392913</td>\n",
       "      <td>2017</td>\n",
       "      <td>1</td>\n",
       "      <td>396</td>\n",
       "      <td>1</td>\n",
       "      <td>...</td>\n",
       "      <td>-0.742400</td>\n",
       "      <td>0.384967</td>\n",
       "      <td>543</td>\n",
       "      <td>1.0</td>\n",
       "      <td>10</td>\n",
       "      <td>-1</td>\n",
       "      <td>1.510777</td>\n",
       "      <td>33717687.0</td>\n",
       "      <td>-12</td>\n",
       "      <td>0</td>\n",
       "    </tr>\n",
       "    <tr>\n",
       "      <th>2</th>\n",
       "      <td>2016-08-01</td>\n",
       "      <td>C_ID_d639edf6cd</td>\n",
       "      <td>2</td>\n",
       "      <td>2</td>\n",
       "      <td>0</td>\n",
       "      <td>0.688056</td>\n",
       "      <td>2016</td>\n",
       "      <td>8</td>\n",
       "      <td>549</td>\n",
       "      <td>1</td>\n",
       "      <td>...</td>\n",
       "      <td>-0.730138</td>\n",
       "      <td>0.087380</td>\n",
       "      <td>0</td>\n",
       "      <td>0.0</td>\n",
       "      <td>0</td>\n",
       "      <td>0</td>\n",
       "      <td>0.000000</td>\n",
       "      <td>35635623.0</td>\n",
       "      <td>-13</td>\n",
       "      <td>0</td>\n",
       "    </tr>\n",
       "    <tr>\n",
       "      <th>3</th>\n",
       "      <td>2017-09-01</td>\n",
       "      <td>C_ID_186d6a6901</td>\n",
       "      <td>4</td>\n",
       "      <td>3</td>\n",
       "      <td>0</td>\n",
       "      <td>0.142495</td>\n",
       "      <td>2017</td>\n",
       "      <td>9</td>\n",
       "      <td>153</td>\n",
       "      <td>1</td>\n",
       "      <td>...</td>\n",
       "      <td>-0.740897</td>\n",
       "      <td>0.261624</td>\n",
       "      <td>84</td>\n",
       "      <td>1.0</td>\n",
       "      <td>3</td>\n",
       "      <td>-1</td>\n",
       "      <td>0.588974</td>\n",
       "      <td>13375339.0</td>\n",
       "      <td>-5</td>\n",
       "      <td>0</td>\n",
       "    </tr>\n",
       "    <tr>\n",
       "      <th>4</th>\n",
       "      <td>2017-11-01</td>\n",
       "      <td>C_ID_cdbd2c0db2</td>\n",
       "      <td>1</td>\n",
       "      <td>3</td>\n",
       "      <td>0</td>\n",
       "      <td>-0.159749</td>\n",
       "      <td>2017</td>\n",
       "      <td>11</td>\n",
       "      <td>92</td>\n",
       "      <td>1</td>\n",
       "      <td>...</td>\n",
       "      <td>-0.746156</td>\n",
       "      <td>1.352094</td>\n",
       "      <td>182</td>\n",
       "      <td>1.0</td>\n",
       "      <td>12</td>\n",
       "      <td>1</td>\n",
       "      <td>1.896862</td>\n",
       "      <td>9405641.0</td>\n",
       "      <td>-3</td>\n",
       "      <td>0</td>\n",
       "    </tr>\n",
       "  </tbody>\n",
       "</table>\n",
       "<p>5 rows × 27 columns</p>\n",
       "</div>"
      ],
      "text/plain": [
       "  first_active_month          card_id  feature_1  feature_2  feature_3  \\\n",
       "0         2017-06-01  C_ID_92a2005557          5          2          1   \n",
       "1         2017-01-01  C_ID_3d0044924f          4          1          0   \n",
       "2         2016-08-01  C_ID_d639edf6cd          2          2          0   \n",
       "3         2017-09-01  C_ID_186d6a6901          4          3          0   \n",
       "4         2017-11-01  C_ID_cdbd2c0db2          1          3          0   \n",
       "\n",
       "     target  year  month  elasped_time  historical_trans_count  \\\n",
       "0 -0.820283  2017      6           245                       1   \n",
       "1  0.392913  2017      1           396                       1   \n",
       "2  0.688056  2016      8           549                       1   \n",
       "3  0.142495  2017      9           153                       1   \n",
       "4 -0.159749  2017     11            92                       1   \n",
       "\n",
       "          ...          hist_purchase_amount-min  hist_purchase_amount-std  \\\n",
       "0         ...                         -0.739395                  0.212139   \n",
       "1         ...                         -0.742400                  0.384967   \n",
       "2         ...                         -0.730138                  0.087380   \n",
       "3         ...                         -0.740897                  0.261624   \n",
       "4         ...                         -0.746156                  1.352094   \n",
       "\n",
       "   hist_installments-sum  hist_installments-median  hist_installments-max  \\\n",
       "0                      4                       0.0                      1   \n",
       "1                    543                       1.0                     10   \n",
       "2                      0                       0.0                      0   \n",
       "3                     84                       1.0                      3   \n",
       "4                    182                       1.0                     12   \n",
       "\n",
       "   hist_installments-min  hist_installments-std  hist_purchase_date-ptp  \\\n",
       "0                      0               0.123314              20977987.0   \n",
       "1                     -1               1.510777              33717687.0   \n",
       "2                      0               0.000000              35635623.0   \n",
       "3                     -1               0.588974              13375339.0   \n",
       "4                      1               1.896862               9405641.0   \n",
       "\n",
       "   hist_month_lag-min  hist_month_lag-max  \n",
       "0                  -8                   0  \n",
       "1                 -12                   0  \n",
       "2                 -13                   0  \n",
       "3                  -5                   0  \n",
       "4                  -3                   0  \n",
       "\n",
       "[5 rows x 27 columns]"
      ]
     },
     "execution_count": 35,
     "metadata": {},
     "output_type": "execute_result"
    }
   ],
   "source": [
    "# Displaying the new training set columns after the merge of the aggregated historical_transactions dataset\n",
    "training_set.head()"
   ]
  },
  {
   "cell_type": "code",
   "execution_count": 36,
   "metadata": {
    "_uuid": "b5e5c4026fedb61b63017674115f0707742fc53a"
   },
   "outputs": [],
   "source": [
    "# Converting the binary values\n",
    "new_merchant_trans['authorized_flag'] = new_merchant_trans['authorized_flag'].map({'Y':1, 'N':0})"
   ]
  },
  {
   "cell_type": "code",
   "execution_count": 37,
   "metadata": {
    "_uuid": "0656af3dcf9fc64b02313457a43c7b184e41475b"
   },
   "outputs": [],
   "source": [
    "new_merchant_trans.loc[:, 'purchased_date'] = pd.DatetimeIndex(new_merchant_trans['purchase_date']).astype(np.int64)*1e-9\n",
    "\n",
    "# aggregate function\n",
    "new_agg_func = {\n",
    "        'authorized_flag': ['sum', 'mean'],\n",
    "        'merchant_id': ['nunique'],\n",
    "        'city_id' : ['nunique'],\n",
    "        'purchase_amount': ['sum', 'mean', 'max', 'min', 'std'],\n",
    "        'installments': ['sum', 'mean', 'max', 'min', 'std'],\n",
    "        'month_lag': ['min', 'max']\n",
    "        }\n",
    "new_agg_history=new_merchant_trans.groupby(['card_id']).agg(new_agg_func)\n",
    "new_agg_history.columns=['new_' + '-'.join(col1).strip() for col1 in new_agg_history.columns.values]\n",
    "new_agg_history.reset_index(inplace=True)"
   ]
  },
  {
   "cell_type": "markdown",
   "metadata": {
    "_uuid": "2b6cfa5a5b153dc9dec4f342ea81c82f07f0ee47"
   },
   "source": [
    "The features that I aggregated together were the following:\n",
    "\n",
    "* authorized_flag\n",
    "* merchant_id\n",
    "* city_id\n",
    "* purchase_amount\n",
    "* installments\n",
    "* purchase_date\n",
    "* month_lag"
   ]
  },
  {
   "cell_type": "code",
   "execution_count": 38,
   "metadata": {
    "_uuid": "9ca914eca8061f4142bfb68db040f1a3a7658f98"
   },
   "outputs": [
    {
     "data": {
      "text/html": [
       "<div>\n",
       "<style scoped>\n",
       "    .dataframe tbody tr th:only-of-type {\n",
       "        vertical-align: middle;\n",
       "    }\n",
       "\n",
       "    .dataframe tbody tr th {\n",
       "        vertical-align: top;\n",
       "    }\n",
       "\n",
       "    .dataframe thead th {\n",
       "        text-align: right;\n",
       "    }\n",
       "</style>\n",
       "<table border=\"1\" class=\"dataframe\">\n",
       "  <thead>\n",
       "    <tr style=\"text-align: right;\">\n",
       "      <th></th>\n",
       "      <th>first_active_month</th>\n",
       "      <th>card_id</th>\n",
       "      <th>feature_1</th>\n",
       "      <th>feature_2</th>\n",
       "      <th>feature_3</th>\n",
       "      <th>target</th>\n",
       "      <th>year</th>\n",
       "      <th>month</th>\n",
       "      <th>elasped_time</th>\n",
       "      <th>historical_trans_count</th>\n",
       "      <th>...</th>\n",
       "      <th>new_purchase_amount-max</th>\n",
       "      <th>new_purchase_amount-min</th>\n",
       "      <th>new_purchase_amount-std</th>\n",
       "      <th>new_installments-sum</th>\n",
       "      <th>new_installments-mean</th>\n",
       "      <th>new_installments-max</th>\n",
       "      <th>new_installments-min</th>\n",
       "      <th>new_installments-std</th>\n",
       "      <th>new_month_lag-min</th>\n",
       "      <th>new_month_lag-max</th>\n",
       "    </tr>\n",
       "  </thead>\n",
       "  <tbody>\n",
       "    <tr>\n",
       "      <th>0</th>\n",
       "      <td>2017-06-01</td>\n",
       "      <td>C_ID_92a2005557</td>\n",
       "      <td>5</td>\n",
       "      <td>2</td>\n",
       "      <td>1</td>\n",
       "      <td>-0.820283</td>\n",
       "      <td>2017</td>\n",
       "      <td>6</td>\n",
       "      <td>245</td>\n",
       "      <td>1</td>\n",
       "      <td>...</td>\n",
       "      <td>-0.296112</td>\n",
       "      <td>-0.724368</td>\n",
       "      <td>0.135812</td>\n",
       "      <td>0.0</td>\n",
       "      <td>0.000000</td>\n",
       "      <td>0.0</td>\n",
       "      <td>0.0</td>\n",
       "      <td>0.000000</td>\n",
       "      <td>1.0</td>\n",
       "      <td>2.0</td>\n",
       "    </tr>\n",
       "    <tr>\n",
       "      <th>1</th>\n",
       "      <td>2017-01-01</td>\n",
       "      <td>C_ID_3d0044924f</td>\n",
       "      <td>4</td>\n",
       "      <td>1</td>\n",
       "      <td>0</td>\n",
       "      <td>0.392913</td>\n",
       "      <td>2017</td>\n",
       "      <td>1</td>\n",
       "      <td>396</td>\n",
       "      <td>1</td>\n",
       "      <td>...</td>\n",
       "      <td>-0.701858</td>\n",
       "      <td>-0.739410</td>\n",
       "      <td>0.014326</td>\n",
       "      <td>6.0</td>\n",
       "      <td>1.000000</td>\n",
       "      <td>1.0</td>\n",
       "      <td>1.0</td>\n",
       "      <td>0.000000</td>\n",
       "      <td>1.0</td>\n",
       "      <td>2.0</td>\n",
       "    </tr>\n",
       "    <tr>\n",
       "      <th>2</th>\n",
       "      <td>2016-08-01</td>\n",
       "      <td>C_ID_d639edf6cd</td>\n",
       "      <td>2</td>\n",
       "      <td>2</td>\n",
       "      <td>0</td>\n",
       "      <td>0.688056</td>\n",
       "      <td>2016</td>\n",
       "      <td>8</td>\n",
       "      <td>549</td>\n",
       "      <td>1</td>\n",
       "      <td>...</td>\n",
       "      <td>-0.700326</td>\n",
       "      <td>-0.700326</td>\n",
       "      <td>NaN</td>\n",
       "      <td>0.0</td>\n",
       "      <td>0.000000</td>\n",
       "      <td>0.0</td>\n",
       "      <td>0.0</td>\n",
       "      <td>NaN</td>\n",
       "      <td>2.0</td>\n",
       "      <td>2.0</td>\n",
       "    </tr>\n",
       "    <tr>\n",
       "      <th>3</th>\n",
       "      <td>2017-09-01</td>\n",
       "      <td>C_ID_186d6a6901</td>\n",
       "      <td>4</td>\n",
       "      <td>3</td>\n",
       "      <td>0</td>\n",
       "      <td>0.142495</td>\n",
       "      <td>2017</td>\n",
       "      <td>9</td>\n",
       "      <td>153</td>\n",
       "      <td>1</td>\n",
       "      <td>...</td>\n",
       "      <td>-0.566740</td>\n",
       "      <td>-0.734135</td>\n",
       "      <td>0.065882</td>\n",
       "      <td>5.0</td>\n",
       "      <td>0.714286</td>\n",
       "      <td>1.0</td>\n",
       "      <td>-1.0</td>\n",
       "      <td>0.755929</td>\n",
       "      <td>1.0</td>\n",
       "      <td>2.0</td>\n",
       "    </tr>\n",
       "    <tr>\n",
       "      <th>4</th>\n",
       "      <td>2017-11-01</td>\n",
       "      <td>C_ID_cdbd2c0db2</td>\n",
       "      <td>1</td>\n",
       "      <td>3</td>\n",
       "      <td>0</td>\n",
       "      <td>-0.159749</td>\n",
       "      <td>2017</td>\n",
       "      <td>11</td>\n",
       "      <td>92</td>\n",
       "      <td>1</td>\n",
       "      <td>...</td>\n",
       "      <td>0.450886</td>\n",
       "      <td>-0.739395</td>\n",
       "      <td>0.223821</td>\n",
       "      <td>35.0</td>\n",
       "      <td>0.972222</td>\n",
       "      <td>2.0</td>\n",
       "      <td>-1.0</td>\n",
       "      <td>0.376913</td>\n",
       "      <td>1.0</td>\n",
       "      <td>2.0</td>\n",
       "    </tr>\n",
       "  </tbody>\n",
       "</table>\n",
       "<p>5 rows × 43 columns</p>\n",
       "</div>"
      ],
      "text/plain": [
       "  first_active_month          card_id  feature_1  feature_2  feature_3  \\\n",
       "0         2017-06-01  C_ID_92a2005557          5          2          1   \n",
       "1         2017-01-01  C_ID_3d0044924f          4          1          0   \n",
       "2         2016-08-01  C_ID_d639edf6cd          2          2          0   \n",
       "3         2017-09-01  C_ID_186d6a6901          4          3          0   \n",
       "4         2017-11-01  C_ID_cdbd2c0db2          1          3          0   \n",
       "\n",
       "     target  year  month  elasped_time  historical_trans_count  \\\n",
       "0 -0.820283  2017      6           245                       1   \n",
       "1  0.392913  2017      1           396                       1   \n",
       "2  0.688056  2016      8           549                       1   \n",
       "3  0.142495  2017      9           153                       1   \n",
       "4 -0.159749  2017     11            92                       1   \n",
       "\n",
       "         ...          new_purchase_amount-max  new_purchase_amount-min  \\\n",
       "0        ...                        -0.296112                -0.724368   \n",
       "1        ...                        -0.701858                -0.739410   \n",
       "2        ...                        -0.700326                -0.700326   \n",
       "3        ...                        -0.566740                -0.734135   \n",
       "4        ...                         0.450886                -0.739395   \n",
       "\n",
       "   new_purchase_amount-std  new_installments-sum  new_installments-mean  \\\n",
       "0                 0.135812                   0.0               0.000000   \n",
       "1                 0.014326                   6.0               1.000000   \n",
       "2                      NaN                   0.0               0.000000   \n",
       "3                 0.065882                   5.0               0.714286   \n",
       "4                 0.223821                  35.0               0.972222   \n",
       "\n",
       "   new_installments-max  new_installments-min  new_installments-std  \\\n",
       "0                   0.0                   0.0              0.000000   \n",
       "1                   1.0                   1.0              0.000000   \n",
       "2                   0.0                   0.0                   NaN   \n",
       "3                   1.0                  -1.0              0.755929   \n",
       "4                   2.0                  -1.0              0.376913   \n",
       "\n",
       "   new_month_lag-min  new_month_lag-max  \n",
       "0                1.0                2.0  \n",
       "1                1.0                2.0  \n",
       "2                2.0                2.0  \n",
       "3                1.0                2.0  \n",
       "4                1.0                2.0  \n",
       "\n",
       "[5 rows x 43 columns]"
      ]
     },
     "execution_count": 38,
     "metadata": {},
     "output_type": "execute_result"
    }
   ],
   "source": [
    "# Merging the training, test dataset together with the historical_transactions dataset\n",
    "training_set = pd.merge(training_set, new_agg_history, on = 'card_id', how = 'left')\n",
    "test_set = pd.merge(test_set, new_agg_history, on = 'card_id', how = 'left')\n",
    "\n",
    "# Displaying the new training set columns after the merge of the aggregated new_merchant_transactions dataset\n",
    "training_set.head()"
   ]
  },
  {
   "cell_type": "code",
   "execution_count": 39,
   "metadata": {
    "_uuid": "80beb0e37b4acce5e4785b7d12eb410734080a35"
   },
   "outputs": [
    {
     "name": "stdout",
     "output_type": "stream",
     "text": [
      "(201917, 43)\n",
      "(123623, 42)\n"
     ]
    }
   ],
   "source": [
    "print(training_set.shape)\n",
    "print(test_set.shape)"
   ]
  },
  {
   "cell_type": "code",
   "execution_count": 40,
   "metadata": {
    "_uuid": "5caf75314eb3baf6e11f304c31ce0b1521e28fb9"
   },
   "outputs": [
    {
     "name": "stdout",
     "output_type": "stream",
     "text": [
      "<class 'pandas.core.frame.DataFrame'>\n",
      "Int64Index: 201917 entries, 0 to 201916\n",
      "Data columns (total 43 columns):\n",
      "first_active_month             201917 non-null datetime64[ns]\n",
      "card_id                        201917 non-null object\n",
      "feature_1                      201917 non-null int64\n",
      "feature_2                      201917 non-null int64\n",
      "feature_3                      201917 non-null int64\n",
      "target                         201917 non-null float64\n",
      "year                           201917 non-null int64\n",
      "month                          201917 non-null int64\n",
      "elasped_time                   201917 non-null int64\n",
      "historical_trans_count         201917 non-null int64\n",
      "hist_authorized_flag-sum       201917 non-null int64\n",
      "hist_authorized_flag-mean      201917 non-null float64\n",
      "hist_merchant_id-nunique       201917 non-null int64\n",
      "hist_city_id-nunique           201917 non-null int64\n",
      "hist_purchase_amount-sum       201917 non-null float64\n",
      "hist_purchase_amount-median    201917 non-null float64\n",
      "hist_purchase_amount-max       201917 non-null float64\n",
      "hist_purchase_amount-min       201917 non-null float64\n",
      "hist_purchase_amount-std       201917 non-null float64\n",
      "hist_installments-sum          201917 non-null int64\n",
      "hist_installments-median       201917 non-null float64\n",
      "hist_installments-max          201917 non-null int64\n",
      "hist_installments-min          201917 non-null int64\n",
      "hist_installments-std          201917 non-null float64\n",
      "hist_purchase_date-ptp         201917 non-null float64\n",
      "hist_month_lag-min             201917 non-null int64\n",
      "hist_month_lag-max             201917 non-null int64\n",
      "new_authorized_flag-sum        179986 non-null float64\n",
      "new_authorized_flag-mean       179986 non-null float64\n",
      "new_merchant_id-nunique        179986 non-null float64\n",
      "new_city_id-nunique            179986 non-null float64\n",
      "new_purchase_amount-sum        179986 non-null float64\n",
      "new_purchase_amount-mean       179986 non-null float64\n",
      "new_purchase_amount-max        179986 non-null float64\n",
      "new_purchase_amount-min        179986 non-null float64\n",
      "new_purchase_amount-std        153199 non-null float64\n",
      "new_installments-sum           179986 non-null float64\n",
      "new_installments-mean          179986 non-null float64\n",
      "new_installments-max           179986 non-null float64\n",
      "new_installments-min           179986 non-null float64\n",
      "new_installments-std           153199 non-null float64\n",
      "new_month_lag-min              179986 non-null float64\n",
      "new_month_lag-max              179986 non-null float64\n",
      "dtypes: datetime64[ns](1), float64(26), int64(15), object(1)\n",
      "memory usage: 67.8+ MB\n"
     ]
    }
   ],
   "source": [
    "training_set.info()"
   ]
  },
  {
   "cell_type": "code",
   "execution_count": 41,
   "metadata": {},
   "outputs": [
    {
     "data": {
      "text/html": [
       "<div>\n",
       "<style scoped>\n",
       "    .dataframe tbody tr th:only-of-type {\n",
       "        vertical-align: middle;\n",
       "    }\n",
       "\n",
       "    .dataframe tbody tr th {\n",
       "        vertical-align: top;\n",
       "    }\n",
       "\n",
       "    .dataframe thead th {\n",
       "        text-align: right;\n",
       "    }\n",
       "</style>\n",
       "<table border=\"1\" class=\"dataframe\">\n",
       "  <thead>\n",
       "    <tr style=\"text-align: right;\">\n",
       "      <th></th>\n",
       "      <th>feature_1</th>\n",
       "      <th>feature_2</th>\n",
       "      <th>feature_3</th>\n",
       "      <th>target</th>\n",
       "      <th>year</th>\n",
       "      <th>month</th>\n",
       "      <th>elasped_time</th>\n",
       "      <th>historical_trans_count</th>\n",
       "      <th>hist_authorized_flag-sum</th>\n",
       "      <th>hist_authorized_flag-mean</th>\n",
       "      <th>...</th>\n",
       "      <th>new_purchase_amount-max</th>\n",
       "      <th>new_purchase_amount-min</th>\n",
       "      <th>new_purchase_amount-std</th>\n",
       "      <th>new_installments-sum</th>\n",
       "      <th>new_installments-mean</th>\n",
       "      <th>new_installments-max</th>\n",
       "      <th>new_installments-min</th>\n",
       "      <th>new_installments-std</th>\n",
       "      <th>new_month_lag-min</th>\n",
       "      <th>new_month_lag-max</th>\n",
       "    </tr>\n",
       "  </thead>\n",
       "  <tbody>\n",
       "    <tr>\n",
       "      <th>count</th>\n",
       "      <td>201917.000000</td>\n",
       "      <td>201917.000000</td>\n",
       "      <td>201917.000000</td>\n",
       "      <td>201917.000000</td>\n",
       "      <td>201917.000000</td>\n",
       "      <td>201917.000000</td>\n",
       "      <td>201917.000000</td>\n",
       "      <td>201917.0</td>\n",
       "      <td>201917.000000</td>\n",
       "      <td>201917.000000</td>\n",
       "      <td>...</td>\n",
       "      <td>179986.000000</td>\n",
       "      <td>179986.000000</td>\n",
       "      <td>153199.000000</td>\n",
       "      <td>179986.000000</td>\n",
       "      <td>179986.000000</td>\n",
       "      <td>179986.000000</td>\n",
       "      <td>179986.000000</td>\n",
       "      <td>153199.000000</td>\n",
       "      <td>179986.000000</td>\n",
       "      <td>179986.000000</td>\n",
       "    </tr>\n",
       "    <tr>\n",
       "      <th>mean</th>\n",
       "      <td>3.105311</td>\n",
       "      <td>1.745410</td>\n",
       "      <td>0.565569</td>\n",
       "      <td>-0.393636</td>\n",
       "      <td>2016.509298</td>\n",
       "      <td>7.378745</td>\n",
       "      <td>381.978981</td>\n",
       "      <td>1.0</td>\n",
       "      <td>81.558982</td>\n",
       "      <td>0.893353</td>\n",
       "      <td>...</td>\n",
       "      <td>-0.131691</td>\n",
       "      <td>-0.660582</td>\n",
       "      <td>0.231553</td>\n",
       "      <td>4.626560</td>\n",
       "      <td>0.744392</td>\n",
       "      <td>1.479748</td>\n",
       "      <td>0.328637</td>\n",
       "      <td>0.519733</td>\n",
       "      <td>1.158679</td>\n",
       "      <td>1.815386</td>\n",
       "    </tr>\n",
       "    <tr>\n",
       "      <th>std</th>\n",
       "      <td>1.186160</td>\n",
       "      <td>0.751362</td>\n",
       "      <td>0.495683</td>\n",
       "      <td>3.850500</td>\n",
       "      <td>0.788199</td>\n",
       "      <td>3.340718</td>\n",
       "      <td>293.710176</td>\n",
       "      <td>0.0</td>\n",
       "      <td>99.243357</td>\n",
       "      <td>0.114446</td>\n",
       "      <td>...</td>\n",
       "      <td>1.532130</td>\n",
       "      <td>0.433409</td>\n",
       "      <td>0.592297</td>\n",
       "      <td>8.195394</td>\n",
       "      <td>1.138139</td>\n",
       "      <td>3.359907</td>\n",
       "      <td>1.036922</td>\n",
       "      <td>1.094625</td>\n",
       "      <td>0.365378</td>\n",
       "      <td>0.387985</td>\n",
       "    </tr>\n",
       "    <tr>\n",
       "      <th>min</th>\n",
       "      <td>1.000000</td>\n",
       "      <td>1.000000</td>\n",
       "      <td>0.000000</td>\n",
       "      <td>-33.219281</td>\n",
       "      <td>2011.000000</td>\n",
       "      <td>1.000000</td>\n",
       "      <td>0.000000</td>\n",
       "      <td>1.0</td>\n",
       "      <td>2.000000</td>\n",
       "      <td>0.030488</td>\n",
       "      <td>...</td>\n",
       "      <td>-0.746893</td>\n",
       "      <td>-0.746893</td>\n",
       "      <td>0.000000</td>\n",
       "      <td>-6.000000</td>\n",
       "      <td>-1.000000</td>\n",
       "      <td>-1.000000</td>\n",
       "      <td>-1.000000</td>\n",
       "      <td>0.000000</td>\n",
       "      <td>1.000000</td>\n",
       "      <td>1.000000</td>\n",
       "    </tr>\n",
       "    <tr>\n",
       "      <th>25%</th>\n",
       "      <td>2.000000</td>\n",
       "      <td>1.000000</td>\n",
       "      <td>0.000000</td>\n",
       "      <td>-0.883110</td>\n",
       "      <td>2016.000000</td>\n",
       "      <td>5.000000</td>\n",
       "      <td>153.000000</td>\n",
       "      <td>1.0</td>\n",
       "      <td>23.000000</td>\n",
       "      <td>0.852941</td>\n",
       "      <td>...</td>\n",
       "      <td>-0.647883</td>\n",
       "      <td>-0.735638</td>\n",
       "      <td>0.039286</td>\n",
       "      <td>0.000000</td>\n",
       "      <td>0.000000</td>\n",
       "      <td>0.000000</td>\n",
       "      <td>0.000000</td>\n",
       "      <td>0.000000</td>\n",
       "      <td>1.000000</td>\n",
       "      <td>2.000000</td>\n",
       "    </tr>\n",
       "    <tr>\n",
       "      <th>50%</th>\n",
       "      <td>3.000000</td>\n",
       "      <td>2.000000</td>\n",
       "      <td>1.000000</td>\n",
       "      <td>-0.023437</td>\n",
       "      <td>2017.000000</td>\n",
       "      <td>8.000000</td>\n",
       "      <td>306.000000</td>\n",
       "      <td>1.0</td>\n",
       "      <td>48.000000</td>\n",
       "      <td>0.926829</td>\n",
       "      <td>...</td>\n",
       "      <td>-0.513020</td>\n",
       "      <td>-0.723466</td>\n",
       "      <td>0.089002</td>\n",
       "      <td>1.000000</td>\n",
       "      <td>0.333333</td>\n",
       "      <td>1.000000</td>\n",
       "      <td>0.000000</td>\n",
       "      <td>0.000000</td>\n",
       "      <td>1.000000</td>\n",
       "      <td>2.000000</td>\n",
       "    </tr>\n",
       "    <tr>\n",
       "      <th>75%</th>\n",
       "      <td>4.000000</td>\n",
       "      <td>2.000000</td>\n",
       "      <td>1.000000</td>\n",
       "      <td>0.765453</td>\n",
       "      <td>2017.000000</td>\n",
       "      <td>10.000000</td>\n",
       "      <td>488.000000</td>\n",
       "      <td>1.0</td>\n",
       "      <td>100.000000</td>\n",
       "      <td>0.972516</td>\n",
       "      <td>...</td>\n",
       "      <td>-0.181911</td>\n",
       "      <td>-0.692076</td>\n",
       "      <td>0.212109</td>\n",
       "      <td>7.000000</td>\n",
       "      <td>1.000000</td>\n",
       "      <td>2.000000</td>\n",
       "      <td>1.000000</td>\n",
       "      <td>0.755929</td>\n",
       "      <td>1.000000</td>\n",
       "      <td>2.000000</td>\n",
       "    </tr>\n",
       "    <tr>\n",
       "      <th>max</th>\n",
       "      <td>5.000000</td>\n",
       "      <td>3.000000</td>\n",
       "      <td>1.000000</td>\n",
       "      <td>17.965068</td>\n",
       "      <td>2018.000000</td>\n",
       "      <td>12.000000</td>\n",
       "      <td>2284.000000</td>\n",
       "      <td>1.0</td>\n",
       "      <td>2537.000000</td>\n",
       "      <td>1.000000</td>\n",
       "      <td>...</td>\n",
       "      <td>76.682904</td>\n",
       "      <td>44.182362</td>\n",
       "      <td>47.327746</td>\n",
       "      <td>1004.000000</td>\n",
       "      <td>34.620690</td>\n",
       "      <td>999.000000</td>\n",
       "      <td>12.000000</td>\n",
       "      <td>185.476878</td>\n",
       "      <td>2.000000</td>\n",
       "      <td>2.000000</td>\n",
       "    </tr>\n",
       "  </tbody>\n",
       "</table>\n",
       "<p>8 rows × 41 columns</p>\n",
       "</div>"
      ],
      "text/plain": [
       "           feature_1      feature_2      feature_3         target  \\\n",
       "count  201917.000000  201917.000000  201917.000000  201917.000000   \n",
       "mean        3.105311       1.745410       0.565569      -0.393636   \n",
       "std         1.186160       0.751362       0.495683       3.850500   \n",
       "min         1.000000       1.000000       0.000000     -33.219281   \n",
       "25%         2.000000       1.000000       0.000000      -0.883110   \n",
       "50%         3.000000       2.000000       1.000000      -0.023437   \n",
       "75%         4.000000       2.000000       1.000000       0.765453   \n",
       "max         5.000000       3.000000       1.000000      17.965068   \n",
       "\n",
       "                year          month   elasped_time  historical_trans_count  \\\n",
       "count  201917.000000  201917.000000  201917.000000                201917.0   \n",
       "mean     2016.509298       7.378745     381.978981                     1.0   \n",
       "std         0.788199       3.340718     293.710176                     0.0   \n",
       "min      2011.000000       1.000000       0.000000                     1.0   \n",
       "25%      2016.000000       5.000000     153.000000                     1.0   \n",
       "50%      2017.000000       8.000000     306.000000                     1.0   \n",
       "75%      2017.000000      10.000000     488.000000                     1.0   \n",
       "max      2018.000000      12.000000    2284.000000                     1.0   \n",
       "\n",
       "       hist_authorized_flag-sum  hist_authorized_flag-mean        ...          \\\n",
       "count             201917.000000              201917.000000        ...           \n",
       "mean                  81.558982                   0.893353        ...           \n",
       "std                   99.243357                   0.114446        ...           \n",
       "min                    2.000000                   0.030488        ...           \n",
       "25%                   23.000000                   0.852941        ...           \n",
       "50%                   48.000000                   0.926829        ...           \n",
       "75%                  100.000000                   0.972516        ...           \n",
       "max                 2537.000000                   1.000000        ...           \n",
       "\n",
       "       new_purchase_amount-max  new_purchase_amount-min  \\\n",
       "count            179986.000000            179986.000000   \n",
       "mean                 -0.131691                -0.660582   \n",
       "std                   1.532130                 0.433409   \n",
       "min                  -0.746893                -0.746893   \n",
       "25%                  -0.647883                -0.735638   \n",
       "50%                  -0.513020                -0.723466   \n",
       "75%                  -0.181911                -0.692076   \n",
       "max                  76.682904                44.182362   \n",
       "\n",
       "       new_purchase_amount-std  new_installments-sum  new_installments-mean  \\\n",
       "count            153199.000000         179986.000000          179986.000000   \n",
       "mean                  0.231553              4.626560               0.744392   \n",
       "std                   0.592297              8.195394               1.138139   \n",
       "min                   0.000000             -6.000000              -1.000000   \n",
       "25%                   0.039286              0.000000               0.000000   \n",
       "50%                   0.089002              1.000000               0.333333   \n",
       "75%                   0.212109              7.000000               1.000000   \n",
       "max                  47.327746           1004.000000              34.620690   \n",
       "\n",
       "       new_installments-max  new_installments-min  new_installments-std  \\\n",
       "count         179986.000000         179986.000000         153199.000000   \n",
       "mean               1.479748              0.328637              0.519733   \n",
       "std                3.359907              1.036922              1.094625   \n",
       "min               -1.000000             -1.000000              0.000000   \n",
       "25%                0.000000              0.000000              0.000000   \n",
       "50%                1.000000              0.000000              0.000000   \n",
       "75%                2.000000              1.000000              0.755929   \n",
       "max              999.000000             12.000000            185.476878   \n",
       "\n",
       "       new_month_lag-min  new_month_lag-max  \n",
       "count      179986.000000      179986.000000  \n",
       "mean            1.158679           1.815386  \n",
       "std             0.365378           0.387985  \n",
       "min             1.000000           1.000000  \n",
       "25%             1.000000           2.000000  \n",
       "50%             1.000000           2.000000  \n",
       "75%             1.000000           2.000000  \n",
       "max             2.000000           2.000000  \n",
       "\n",
       "[8 rows x 41 columns]"
      ]
     },
     "execution_count": 41,
     "metadata": {},
     "output_type": "execute_result"
    }
   ],
   "source": [
    "training_set.describe()"
   ]
  },
  {
   "cell_type": "markdown",
   "metadata": {},
   "source": [
    "Now that the data in is in a single training and test sets we will fill in the missing values that were discovered in the previous sections."
   ]
  },
  {
   "cell_type": "code",
   "execution_count": 42,
   "metadata": {
    "_uuid": "b1375df40be79633c7f4dc6f5094548ae2456516"
   },
   "outputs": [],
   "source": [
    "# Fill in the missing values\n",
    "for col in training_set.columns:\n",
    "    if training_set[col].isna().any():\n",
    "        training_set[col] = training_set[col].fillna(0)"
   ]
  },
  {
   "cell_type": "code",
   "execution_count": 43,
   "metadata": {
    "_uuid": "6f67d8b1ed94b980702154fe21239d9fcca72ab8"
   },
   "outputs": [],
   "source": [
    "# Fill in the missing values\n",
    "for col in test_set.columns:\n",
    "    if test_set[col].isna().any():\n",
    "        test_set[col] = test_set[col].fillna(0)"
   ]
  },
  {
   "cell_type": "markdown",
   "metadata": {
    "_uuid": "f8740f6326adcfae434ae8d12996aaec5d57c88b"
   },
   "source": [
    "**2.4 Feature Scaling/Normalization**\n",
    "\n",
    "Columns that have more than two values are known as categorical variables, the recommended way to handle such columns is to create as many columns as needed of possible values and assign a 1 to one of the values and 0 to all others possible values. These generate columns that are sometimes called dummy variables, and which I will use the pandas.get_dummies() function to perform this transformation."
   ]
  },
  {
   "cell_type": "code",
   "execution_count": 44,
   "metadata": {
    "_uuid": "312970be76f3cf12a22abbe95505e55a85bc8c6a"
   },
   "outputs": [],
   "source": [
    "# Combining all the features into a variable called features\n",
    "features = list(training_set.columns)\n",
    "# Combining the categorical features into a variable called categorical features\n",
    "categorical_features = [featr for featr in features if 'feature_' in featr]"
   ]
  },
  {
   "cell_type": "code",
   "execution_count": 45,
   "metadata": {
    "_uuid": "9fc88e1f2551638774d973fc4b42287443253442"
   },
   "outputs": [],
   "source": [
    "# Creating dummy variables for the categorical features\n",
    "training_set = pd.get_dummies(training_set, columns = categorical_features)\n",
    "test_set = pd.get_dummies(test_set, columns = categorical_features)"
   ]
  },
  {
   "cell_type": "markdown",
   "metadata": {},
   "source": [
    "Since both the `card_id` and `first_active_month` are not numeric values and have too many values to use the pd.get_dummies function these columns will be removed as features in the training. The `target` column was removed because this is the target column that I will be training our models on."
   ]
  },
  {
   "cell_type": "code",
   "execution_count": 46,
   "metadata": {
    "_uuid": "5f720697d0b29a174e5f538fd1c7bfa0d91fb2ae"
   },
   "outputs": [
    {
     "name": "stdout",
     "output_type": "stream",
     "text": [
      "(201917, 47)\n",
      "(123623, 47)\n"
     ]
    }
   ],
   "source": [
    "# Removing the columns of card_id, first_active_month and target from the training and test sets.\n",
    "use_col = [col for col in training_set.columns if col not in ['card_id', 'first_active_month', 'target']]\n",
    "use_col1 = [col for col in test_set.columns if col not in ['card_id', 'first_active_month']]\n",
    "\n",
    "training_set = training_set[use_col]\n",
    "test_set = test_set[use_col1]\n",
    "\n",
    "print(training_set.shape)\n",
    "print(test_set.shape)"
   ]
  },
  {
   "cell_type": "markdown",
   "metadata": {
    "_uuid": "ac208d5a292ac78f0a7ad397f9053a58a121d1b2"
   },
   "source": [
    "## 3. Evaluating Models ##\n",
    "\n",
    "I don't know which algorithm would be good on this problem or what configurations to use. So let's pick a few algorithms to evaluate:\n",
    "\n",
    "Regularized Linear models as an improvement over Linear Regression.\n",
    "\n",
    "* Ridge Regression\n",
    "\n",
    "Ensemble-based Tree Regression models to deal robustly with outlier data and a large number of features.\n",
    "* Lightgbm\n",
    "* XGBoost\n",
    "\n",
    "I will be using 5-fold cross-validation to help evaluate the robustness of our model. This will split our dataset into 5 parts, the data will train on 4 part and test on 1 and repeat for all combinations of train-test splits. The metric that I will be using to evaluate the model will be the root mean square error or RMSE. This is calculated by taking the square root of the actual values of the target column and subtracting that by the predicted values of the target column."
   ]
  },
  {
   "cell_type": "markdown",
   "metadata": {},
   "source": [
    "**3.1 Benchmark**\n",
    "\n",
    "The first step before building our models is to create a benchmark that we can use as a comparison to our other models. The benchmarks that will be used in this project a simple untuned linear regression and as this is a Kaggle competition we will also be comparing the best score of 3.713 against the score achieved in this project."
   ]
  },
  {
   "cell_type": "code",
   "execution_count": 47,
   "metadata": {},
   "outputs": [],
   "source": [
    "# Creating a benchmark using a linear regression\n",
    "X_train = training_set\n",
    "X_test = test_set\n",
    "lin_reg = LinearRegression()\n",
    "lin_reg.fit(X_train, y_train)\n",
    "y_pred = lin_reg.predict(X_train)"
   ]
  },
  {
   "cell_type": "code",
   "execution_count": 48,
   "metadata": {},
   "outputs": [
    {
     "name": "stdout",
     "output_type": "stream",
     "text": [
      "RMSE on training data : 3.8058572218733397\n"
     ]
    }
   ],
   "source": [
    "print('RMSE on training data :', np.sqrt(mean_squared_error(y_train, y_pred)))"
   ]
  },
  {
   "cell_type": "markdown",
   "metadata": {},
   "source": [
    "**3.2 Build Models**\n",
    "\n",
    "The first model is a Ridge Regression, is a technique for analyzing multiple regression data that suffer from multicollinearity. Multicollinearity is a phenomenon in which one feature variable in a multiple regression model can be linearly predicted from the others with a substantial degree of accuracy."
   ]
  },
  {
   "cell_type": "code",
   "execution_count": 49,
   "metadata": {
    "_uuid": "8e13d3efcba3043a849763ad81e896d2fdc1a931"
   },
   "outputs": [
    {
     "name": "stdout",
     "output_type": "stream",
     "text": [
      "fold n°1\n",
      "Fold 0 started at Thu Dec 13 13:35:45 2018\n",
      "fold n°2\n",
      "Fold 1 started at Thu Dec 13 13:35:46 2018\n"
     ]
    },
    {
     "name": "stderr",
     "output_type": "stream",
     "text": [
      "/Users/joelholla/anaconda/envs/pythonb/lib/python3.6/site-packages/sklearn/linear_model/ridge.py:125: LinAlgWarning: scipy.linalg.solve\n",
      "Ill-conditioned matrix detected. Result is not guaranteed to be accurate.\n",
      "Reciprocal condition number4.380676e-20\n",
      "  overwrite_a=True).T\n",
      "/Users/joelholla/anaconda/envs/pythonb/lib/python3.6/site-packages/sklearn/linear_model/ridge.py:125: LinAlgWarning: scipy.linalg.solve\n",
      "Ill-conditioned matrix detected. Result is not guaranteed to be accurate.\n",
      "Reciprocal condition number4.379937e-20\n",
      "  overwrite_a=True).T\n"
     ]
    },
    {
     "name": "stdout",
     "output_type": "stream",
     "text": [
      "fold n°3\n",
      "Fold 2 started at Thu Dec 13 13:35:46 2018\n",
      "fold n°4\n",
      "Fold 3 started at Thu Dec 13 13:35:46 2018\n"
     ]
    },
    {
     "name": "stderr",
     "output_type": "stream",
     "text": [
      "/Users/joelholla/anaconda/envs/pythonb/lib/python3.6/site-packages/sklearn/linear_model/ridge.py:125: LinAlgWarning: scipy.linalg.solve\n",
      "Ill-conditioned matrix detected. Result is not guaranteed to be accurate.\n",
      "Reciprocal condition number4.385562e-20\n",
      "  overwrite_a=True).T\n",
      "/Users/joelholla/anaconda/envs/pythonb/lib/python3.6/site-packages/sklearn/linear_model/ridge.py:125: LinAlgWarning: scipy.linalg.solve\n",
      "Ill-conditioned matrix detected. Result is not guaranteed to be accurate.\n",
      "Reciprocal condition number4.379864e-20\n",
      "  overwrite_a=True).T\n"
     ]
    },
    {
     "name": "stdout",
     "output_type": "stream",
     "text": [
      "fold n°5\n",
      "Fold 4 started at Thu Dec 13 13:35:46 2018\n",
      "3.819957469516386\n"
     ]
    },
    {
     "name": "stderr",
     "output_type": "stream",
     "text": [
      "/Users/joelholla/anaconda/envs/pythonb/lib/python3.6/site-packages/sklearn/linear_model/ridge.py:125: LinAlgWarning: scipy.linalg.solve\n",
      "Ill-conditioned matrix detected. Result is not guaranteed to be accurate.\n",
      "Reciprocal condition number4.377585e-20\n",
      "  overwrite_a=True).T\n"
     ]
    }
   ],
   "source": [
    "# Creating a column of zeroes in the training and test sets that we will use for our predictions and validations set.\n",
    "oof_ridge = np.zeros(len(training_set))\n",
    "predictions_ridge = np.zeros(len(test_set))\n",
    "\n",
    "# Defining the parameters for the KFold cross validation that will be used\n",
    "folds = KFold(n_splits=5, shuffle=True, random_state=15)\n",
    "\n",
    "# Using a for loop to cycle through all combinations of the training and test splits\n",
    "for fold_, (trn_idx, val_idx) in enumerate(folds.split(training_set)):\n",
    "    print(\"fold n°{}\".format(fold_+1))\n",
    "    print('Fold', str(fold_), 'started at', time.ctime())\n",
    "    trn_data, trn_y = training_set.iloc[trn_idx], y_train.iloc[trn_idx].values\n",
    "    val_data, val_y = training_set.iloc[val_idx], y_train.iloc[val_idx].values\n",
    "    \n",
    "    # Fitting the regressor to the data\n",
    "    clf = Ridge(alpha=1.0)\n",
    "    clf.fit(trn_data, trn_y)\n",
    "    \n",
    "    # Making predictions on validation set\n",
    "    oof_ridge[val_idx] = clf.predict(val_data)\n",
    "    predictions_ridge += clf.predict(test_set) / folds.n_splits\n",
    "\n",
    "# Saving and printing the predictions and RMSE error of the model\n",
    "np.save('oof_ridge', oof_ridge)\n",
    "np.save('predictions_ridge', predictions_ridge)\n",
    "cv_results_ridge = np.sqrt(mean_squared_error(y_train, oof_ridge))\n",
    "print(cv_results_ridge)"
   ]
  },
  {
   "cell_type": "markdown",
   "metadata": {
    "_uuid": "f2b7f4884699e68e18f56cf2eb75197b5f96a455"
   },
   "source": [
    "The second model is the Light GBM this is a gradient boosting framework that uses a tree-based learning algorithm. The main difference from other tree-based algorithms is that the Light GBM grows trees vertically while other algorithm grows trees horizontally meaning that the Light GBM grows tree **leaf-wise** while other algorithms grows level-wise. When growing the same leaf, Leaf-wise algorithm can reduce more loss than a level-wise algorithm. As the size of dataset increases day by day, it is becoming difficult for traditional data science algorithm to give faster results. Light GBM can handle the large size of data and takes lower memory to run. Two other reasons why Light GBM is popular is because it supports GPU learning and it also focuses on the accuracy of results. Light GBM is sensitive to overfitting and can easily overfit small datasets."
   ]
  },
  {
   "cell_type": "code",
   "execution_count": 50,
   "metadata": {
    "_uuid": "a81dd5b5591762ada4fbe550a91d8d0a98c64bd4"
   },
   "outputs": [
    {
     "name": "stdout",
     "output_type": "stream",
     "text": [
      "Fold 0 started at Thu Dec 13 13:35:46 2018\n",
      "Training until validation scores don't improve for 200 rounds.\n",
      "[1000]\ttraining's rmse: 3.49989\tvalid_1's rmse: 3.68649\n",
      "Early stopping, best iteration is:\n",
      "[1468]\ttraining's rmse: 3.44061\tvalid_1's rmse: 3.68446\n",
      "Fold 1 started at Thu Dec 13 13:36:04 2018\n",
      "Training until validation scores don't improve for 200 rounds.\n",
      "[1000]\ttraining's rmse: 3.48305\tvalid_1's rmse: 3.75095\n",
      "Early stopping, best iteration is:\n",
      "[1349]\ttraining's rmse: 3.43793\tvalid_1's rmse: 3.75007\n",
      "Fold 2 started at Thu Dec 13 13:36:25 2018\n",
      "Training until validation scores don't improve for 200 rounds.\n",
      "[1000]\ttraining's rmse: 3.49695\tvalid_1's rmse: 3.71404\n",
      "[2000]\ttraining's rmse: 3.38473\tvalid_1's rmse: 3.7133\n",
      "Early stopping, best iteration is:\n",
      "[1809]\ttraining's rmse: 3.40336\tvalid_1's rmse: 3.71273\n",
      "Fold 3 started at Thu Dec 13 13:36:46 2018\n",
      "Training until validation scores don't improve for 200 rounds.\n",
      "[1000]\ttraining's rmse: 3.48705\tvalid_1's rmse: 3.7409\n",
      "Early stopping, best iteration is:\n",
      "[1280]\ttraining's rmse: 3.45224\tvalid_1's rmse: 3.73969\n",
      "Fold 4 started at Thu Dec 13 13:37:01 2018\n",
      "Training until validation scores don't improve for 200 rounds.\n",
      "[1000]\ttraining's rmse: 3.50513\tvalid_1's rmse: 3.66457\n",
      "Early stopping, best iteration is:\n",
      "[1686]\ttraining's rmse: 3.42587\tvalid_1's rmse: 3.66246\n",
      "3.7100273584655095\n"
     ]
    }
   ],
   "source": [
    "# Defining the default parameters that will be used in the LightGBM\n",
    "lgb_params = {\"objective\" : \"regression\", \"metric\" : \"rmse\", \n",
    "               \"max_depth\": -1, \"min_child_samples\": 20, \n",
    "               \"reg_alpha\": 0.0, \"reg_lambda\": 0.0,\n",
    "               \"num_leaves\" : 31, \"learning_rate\" : 0.01, \n",
    "               \"subsample\" : 1, \"colsample_bytree\" : 1.0}\n",
    "\n",
    "# Defining the parameters for the KFold cross validation that will be used\n",
    "FOLDs = KFold(n_splits=5, shuffle=True, random_state=187)\n",
    "\n",
    "# Creating a column of zeroes in the training and test sets that we will use for our predictions and validations set.\n",
    "oof_lgb = np.zeros(len(training_set))\n",
    "predictions_lgb = np.zeros(len(test_set))\n",
    "\n",
    "# Creating a new dataframe that will keep track of the feature importance\n",
    "features_lgb = list(training_set.columns)\n",
    "feature_importance_df_lgb = pd.DataFrame()\n",
    "\n",
    "# Using a for loop to cycle through all combinations of the training and test splits\n",
    "for fold_, (trn_idx, val_idx) in enumerate(FOLDs.split(training_set)):\n",
    "    trn_data = lgb.Dataset(training_set.iloc[trn_idx], label=y_train.iloc[trn_idx])\n",
    "    val_data = lgb.Dataset(training_set.iloc[val_idx], label=y_train.iloc[val_idx])\n",
    "\n",
    "    # Training the data\n",
    "    print('Fold', str(fold_), 'started at', time.ctime())\n",
    "    num_round = 10000\n",
    "    clf = lgb.train(lgb_params, trn_data, num_round, valid_sets = [trn_data, val_data], verbose_eval=1000, early_stopping_rounds = 200)\n",
    "    oof_lgb[val_idx] = clf.predict(training_set.iloc[val_idx], num_iteration=clf.best_iteration)\n",
    "    \n",
    "\n",
    "    \n",
    "    # Making prediction on the validation set\n",
    "    predictions_lgb += clf.predict(test_set, num_iteration=clf.best_iteration) / FOLDs.n_splits\n",
    "    \n",
    "# Printing the predictions and RMSE error of the model\n",
    "cv_results_lgb = np.sqrt(mean_squared_error(oof_lgb, y_train))\n",
    "print(cv_results_lgb)"
   ]
  },
  {
   "cell_type": "markdown",
   "metadata": {
    "_uuid": "2d3002fc3072406fd92a3e8f7b978dc76970c71e"
   },
   "source": [
    "The final model is the XGBoost. The XGBoost model is an algorithm that has recently been dominating applied machine learning and Kaggle competitions for structured or tabular data. XGBoost is an implementation of gradient boosted decision trees designed for speed and performance. The implementation of the algorithm was engineered for the efficiency of compute time and memory resources. The design goal was to make the best use of available data to train the model. XGBoost also offers several advanced features for model tuning, it is robust enough to support fine-tuning in addition to regularization parameters. The algorithm includes handling of missing values, and the ability to fit and boost on new data added to a trained model."
   ]
  },
  {
   "cell_type": "code",
   "execution_count": 51,
   "metadata": {
    "_uuid": "bf53b1b0590b3f0466e22daeb5bc10399b6c3a1a"
   },
   "outputs": [
    {
     "name": "stdout",
     "output_type": "stream",
     "text": [
      "-\n",
      "Fold 0 started at Thu Dec 13 13:37:20 2018\n",
      "xgb 0--------------------------------------------------\n",
      "[0]\ttrain-rmse:3.84543\tvalid-rmse:3.89432\n",
      "Multiple eval metrics have been passed: 'valid-rmse' will be used for early stopping.\n",
      "\n",
      "Will train until valid-rmse hasn't improved in 50 rounds.\n",
      "Stopping. Best iteration:\n",
      "[21]\ttrain-rmse:3.59509\tvalid-rmse:3.75609\n",
      "\n",
      "-\n",
      "Fold 1 started at Thu Dec 13 13:37:48 2018\n",
      "xgb 1--------------------------------------------------\n",
      "[0]\ttrain-rmse:3.86379\tvalid-rmse:3.81681\n",
      "Multiple eval metrics have been passed: 'valid-rmse' will be used for early stopping.\n",
      "\n",
      "Will train until valid-rmse hasn't improved in 50 rounds.\n",
      "Stopping. Best iteration:\n",
      "[19]\ttrain-rmse:3.61696\tvalid-rmse:3.69204\n",
      "\n",
      "-\n",
      "Fold 2 started at Thu Dec 13 13:38:15 2018\n",
      "xgb 2--------------------------------------------------\n",
      "[0]\ttrain-rmse:3.87222\tvalid-rmse:3.78903\n",
      "Multiple eval metrics have been passed: 'valid-rmse' will be used for early stopping.\n",
      "\n",
      "Will train until valid-rmse hasn't improved in 50 rounds.\n",
      "Stopping. Best iteration:\n",
      "[20]\ttrain-rmse:3.61772\tvalid-rmse:3.6584\n",
      "\n",
      "-\n",
      "Fold 3 started at Thu Dec 13 13:38:43 2018\n",
      "xgb 3--------------------------------------------------\n",
      "[0]\ttrain-rmse:3.8185\tvalid-rmse:4.00163\n",
      "Multiple eval metrics have been passed: 'valid-rmse' will be used for early stopping.\n",
      "\n",
      "Will train until valid-rmse hasn't improved in 50 rounds.\n",
      "Stopping. Best iteration:\n",
      "[20]\ttrain-rmse:3.56024\tvalid-rmse:3.86984\n",
      "\n",
      "-\n",
      "Fold 4 started at Thu Dec 13 13:39:10 2018\n",
      "xgb 4--------------------------------------------------\n",
      "[0]\ttrain-rmse:3.8717\tvalid-rmse:3.80711\n",
      "Multiple eval metrics have been passed: 'valid-rmse' will be used for early stopping.\n",
      "\n",
      "Will train until valid-rmse hasn't improved in 50 rounds.\n",
      "Stopping. Best iteration:\n",
      "[20]\ttrain-rmse:3.59428\tvalid-rmse:3.67962\n",
      "\n",
      "3.7503941956232656\n"
     ]
    }
   ],
   "source": [
    "# Defining the default parameters that will be used in the XGBoost\n",
    "xgb_params = {'eta': 0.3, 'max_depth': 6, 'subsample': 1, 'colsample_bytree': 1, \n",
    "          'objective': 'reg:linear', 'eval_metric': 'rmse', 'silent': True}\n",
    "\n",
    "# Creating a column of zeroes in the training and test sets that we will use for our predictions and validations set.\n",
    "oof_xgb = np.zeros(len(training_set))\n",
    "predictions_xgb = np.zeros(len(test_set))\n",
    "\n",
    "# Defining the parameters for the KFold cross validation that will be used\n",
    "folds = KFold(n_splits=5, shuffle=True, random_state=15)\n",
    "\n",
    "# Using a for loop to cycle through all combinations of the training and test splits\n",
    "for fold_, (trn_idx, val_idx) in enumerate(folds.split(training_set)):\n",
    "    print('-')\n",
    "    \n",
    "    print('Fold', str(fold_), 'started at', time.ctime())\n",
    "    trn_data = xgb.DMatrix(data=training_set.iloc[trn_idx], label=y_train.iloc[trn_idx])\n",
    "    val_data = xgb.DMatrix(data=training_set.iloc[val_idx], label= y_train.iloc[val_idx])\n",
    "    watchlist = [(trn_data, 'train'), (val_data, 'valid')]\n",
    "    print(\"xgb \" + str(fold_) + \"-\" * 50)\n",
    "    num_round = 10000\n",
    "    \n",
    "    # Training the data\n",
    "    xgb_model = xgb.train(xgb_params, trn_data, num_round, watchlist, early_stopping_rounds=50, verbose_eval=1000)\n",
    "    oof_xgb[val_idx] = xgb_model.predict(xgb.DMatrix(training_set.iloc[val_idx]), ntree_limit=xgb_model.best_ntree_limit+50)\n",
    "\n",
    "    # Making prediction on the validation set\n",
    "    predictions_xgb += xgb_model.predict(xgb.DMatrix(test_set), ntree_limit=xgb_model.best_ntree_limit+50) / folds.n_splits\n",
    "\n",
    "# Saving and printing the predictions and RMSE error of the model\n",
    "np.save('oof_xgb', oof_xgb)\n",
    "np.save('predictions_xgb', predictions_xgb)\n",
    "cv_results_xgb = np.sqrt(mean_squared_error(y_train, oof_xgb))\n",
    "print(cv_results_xgb)"
   ]
  },
  {
   "cell_type": "markdown",
   "metadata": {},
   "source": [
    "**3.2 Select the best model**"
   ]
  },
  {
   "cell_type": "markdown",
   "metadata": {},
   "source": [
    "The LightGBM proved to be the model with the lowest RMSE score, with that knowledge we can proceed to tuning the model to see if we can improve the performance. This is the order of lowest to highest RMSE score achieved by the default parameters of the different models used in this project.\n",
    "\n",
    "1. LightGBM (3.7100273584655095)\n",
    "2. XGBoost (3.7503941956232656)\n",
    "3. Benchmark (Linear Regression) (3.8058572218733397)\n",
    "4. Ridge Regression (3.819957469516386)"
   ]
  },
  {
   "cell_type": "markdown",
   "metadata": {},
   "source": [
    "## 4. Model Tuning ##\n",
    "\n",
    "Let's start with some parameters tuning to see if we can increase the performance of the model."
   ]
  },
  {
   "cell_type": "markdown",
   "metadata": {},
   "source": [
    "**Parameters Tuning**\n",
    "\n",
    "When tuning an LightGBM model there are several parameters that canb play a pivotal role in preventing under or overfitting. The first parameters is `num_leaves` parameters. This controls the maximum tree leaves for base learners, unconstrained trees will cause overfitting on the dataset. Another important parameter is `max_depth` which determines the maximum tree depth for base learners, to prevent overfitting it is recommended to use a small number."
   ]
  },
  {
   "cell_type": "code",
   "execution_count": 53,
   "metadata": {},
   "outputs": [
    {
     "name": "stdout",
     "output_type": "stream",
     "text": [
      "Best parameters found by grid search are: {'max_depth': 8, 'num_leaves': 75}\n",
      "-13.800357376782822\n"
     ]
    }
   ],
   "source": [
    "#Tune max_depth and num_leaves\n",
    "\n",
    "# Importing GridSearchCV\n",
    "from sklearn.model_selection import GridSearchCV\n",
    "\n",
    "lgb0 = lgb.LGBMRegressor(random_state = 187, objective = \"regression\", metric = \"rmse\")\n",
    "\n",
    "# Creating a list of parameters values to try using Grid Search\n",
    "param_grid = {\n",
    "    'max_depth': [4, 8, 12, 15, 20],\n",
    "    'num_leaves': [50, 65, 75, 85, 130],\n",
    "}\n",
    "\n",
    "# Implementing grid search on the training set\n",
    "gsearch = GridSearchCV(lgb0, param_grid, cv=5, scoring = 'neg_mean_squared_error')\n",
    "gsearch.fit(X_train, y_train)\n",
    "\n",
    "# Printing the best parameters that were found using grid search\n",
    "print('Best parameters found by grid search are:', gsearch.best_params_)\n",
    "\n",
    "# Print the best score to evaluate the parameters in this case we are using the neg_mean_squared_error, higher the number the better the performance.\n",
    "print(gsearch.best_score_)"
   ]
  },
  {
   "cell_type": "code",
   "execution_count": 54,
   "metadata": {},
   "outputs": [
    {
     "name": "stdout",
     "output_type": "stream",
     "text": [
      "Best parameters found by grid search are: {'min_child_sample': 20, 'min_data_in_leaf': 150}\n",
      "-13.73806532289215\n"
     ]
    }
   ],
   "source": [
    "#Tune min_data_in_leaf and min_child_sample\n",
    "\n",
    "lgb1 = lgb.LGBMRegressor(random_state = 187, \n",
    "                              objective = \"regression\", \n",
    "                              metric = \"rmse\",\n",
    "                              max_depth = 8,\n",
    "                              num_leaves = 75)\n",
    "\n",
    "# Creating a list of parameters values to try using Grid Search\n",
    "param_grid_1 = {\n",
    "    'min_child_sample': [20, 25, 50, 100, 150],\n",
    "    'min_data_in_leaf': [10, 25, 50, 75, 100, 150],\n",
    "}\n",
    "\n",
    "# Implementing grid search on the training set\n",
    "gsearch1 = GridSearchCV(lgb1, param_grid_1, cv=5, scoring = 'neg_mean_squared_error')\n",
    "gsearch1.fit(X_train, y_train)\n",
    "\n",
    "# Printing the best parameters that were found using grid search\n",
    "print('Best parameters found by grid search are:', gsearch1.best_params_)\n",
    "\n",
    "# Print the best score \n",
    "print(gsearch1.best_score_)"
   ]
  },
  {
   "cell_type": "code",
   "execution_count": 55,
   "metadata": {},
   "outputs": [
    {
     "name": "stdout",
     "output_type": "stream",
     "text": [
      "Best parameters found by grid search are: {'learning_rate': 0.1, 'subsample': 0.5}\n",
      "-13.73806532289215\n"
     ]
    }
   ],
   "source": [
    "#Tune learning_rate and subsample\n",
    "\n",
    "lgb2 = lgb.LGBMRegressor(random_state = 187, \n",
    "                              objective = \"regression\", \n",
    "                              metric = \"rmse\",\n",
    "                              max_depth = 8,\n",
    "                              num_leaves = 75,\n",
    "                              min_child_sample = 20,\n",
    "                              min_data_in_leaf = 150)\n",
    "\n",
    "# Creating a list of parameters values to try using Grid Search\n",
    "param_grid_2 = {\n",
    "    'learning_rate': [0.005, 0.01, 0.1, 1],\n",
    "    'subsample': [0.5, 0.7, 1]\n",
    "}\n",
    "\n",
    "# Implementing grid search on the training set\n",
    "gsearch2 = GridSearchCV(lgb2, param_grid_2, cv=5, scoring = 'neg_mean_squared_error')\n",
    "gsearch2.fit(X_train, y_train)\n",
    "\n",
    "# Printing the best parameters that were found using grid search\n",
    "print('Best parameters found by grid search are:', gsearch2.best_params_)\n",
    "\n",
    "# Print the best score\n",
    "print(gsearch2.best_score_)"
   ]
  },
  {
   "cell_type": "code",
   "execution_count": 56,
   "metadata": {},
   "outputs": [
    {
     "name": "stdout",
     "output_type": "stream",
     "text": [
      "Best parameters found by grid search are: {'bagging_fraction': 0.7, 'feature_fraction': 1.0, 'lambda_l1': 6}\n",
      "-13.736076817038791\n"
     ]
    }
   ],
   "source": [
    "#Tune feature_fraction, bagging_fraction andlambda_l1\n",
    "\n",
    "lgb3 = lgb.LGBMRegressor(random_state = 187, \n",
    "                              objective = \"regression\", \n",
    "                              metric = \"rmse\",\n",
    "                              max_depth = 8,\n",
    "                              num_leaves = 75,\n",
    "                              min_child_sample = 20,\n",
    "                              min_data_in_leaf = 150,\n",
    "                              learning_rate = 0.1,\n",
    "                              subsample = 0.5)\n",
    "\n",
    "# Creating a list of parameters values to try using Grid Search\n",
    "param_grid_3 = {\n",
    "    'feature_fraction': [0.7, 1.0],\n",
    "    'bagging_fraction': [0.7, 1.],\n",
    "    'lambda_l1': [0, 6],\n",
    "}\n",
    "\n",
    "# Implementing grid search on the training set\n",
    "gsearch3 = GridSearchCV(lgb3, param_grid_3, cv=5, scoring = 'neg_mean_squared_error')\n",
    "gsearch3.fit(X_train, y_train)\n",
    "\n",
    "# Printing the best parameters that were found using grid search\n",
    "print('Best parameters found by grid search are:', gsearch3.best_params_)\n",
    "\n",
    "# Printing the best score\n",
    "print(gsearch3.best_score_)"
   ]
  },
  {
   "cell_type": "code",
   "execution_count": 57,
   "metadata": {
    "scrolled": true
   },
   "outputs": [
    {
     "name": "stdout",
     "output_type": "stream",
     "text": [
      "Fold 0 started at Thu Dec 13 13:51:57 2018\n",
      "Training until validation scores don't improve for 200 rounds.\n",
      "Early stopping, best iteration is:\n",
      "[101]\ttraining's rmse: 3.56252\tvalid_1's rmse: 3.68167\n",
      "Fold 1 started at Thu Dec 13 13:52:01 2018\n",
      "Training until validation scores don't improve for 200 rounds.\n",
      "Early stopping, best iteration is:\n",
      "[95]\ttraining's rmse: 3.55535\tvalid_1's rmse: 3.74546\n",
      "Fold 2 started at Thu Dec 13 13:52:05 2018\n",
      "Training until validation scores don't improve for 200 rounds.\n",
      "Early stopping, best iteration is:\n",
      "[82]\ttraining's rmse: 3.5701\tvalid_1's rmse: 3.70942\n",
      "Fold 3 started at Thu Dec 13 13:52:09 2018\n",
      "Training until validation scores don't improve for 200 rounds.\n",
      "Early stopping, best iteration is:\n",
      "[72]\ttraining's rmse: 3.57342\tvalid_1's rmse: 3.7358\n",
      "Fold 4 started at Thu Dec 13 13:52:14 2018\n",
      "Training until validation scores don't improve for 200 rounds.\n",
      "Early stopping, best iteration is:\n",
      "[88]\ttraining's rmse: 3.5872\tvalid_1's rmse: 3.65912\n",
      "3.706435816762611\n"
     ]
    }
   ],
   "source": [
    "# Making prediction using the tuned parameters found using GridSearchCV\n",
    "\n",
    "# Defining the tuned parameters that will be used in the LightGBM\n",
    "lgb_params = {\"objective\" : \"regression\", \"metric\" : \"rmse\", \n",
    "              \"max_depth\": 8, \"min_child_samples\": 20,\n",
    "              \"reg_alpha\": 0, \"reg_lambda\": 0,\n",
    "              \"num_leaves\" : 75, \"learning_rate\" : 0.1, \n",
    "              \"subsample\" : 0.5, \"colsample_bytree\" : 0.8, \n",
    "              \"verbosity\": -1, 'min_data_in_leaf': 150,\n",
    "              \"feature_fraction\": 1, \"bagging_feature\": 0.7,\n",
    "              \"lambda_l1\": 6}\n",
    "\n",
    "# Defining the parameters for the KFold cross validation that will be used\n",
    "FOLDs = KFold(n_splits=5, shuffle=True, random_state=187)\n",
    "\n",
    "# Creating a column of zeroes in the training and test sets that we will use for our predictions and validations set.\n",
    "oof_lgb1 = np.zeros(len(training_set))\n",
    "predictions_lgb1 = np.zeros(len(test_set))\n",
    "\n",
    "# Creating a new dataframe that will keep track of the feature importance.\n",
    "features_lgb1 = list(training_set.columns)\n",
    "feature_importance_df_lgb1 = pd.DataFrame()\n",
    "\n",
    "# Using a for loop to cycle through all combinations of the training and test splits\n",
    "for fold_, (trn_idx, val_idx) in enumerate(FOLDs.split(training_set)):\n",
    "    trn_data = lgb.Dataset(training_set.iloc[trn_idx], label=y_train.iloc[trn_idx])\n",
    "    val_data = lgb.Dataset(training_set.iloc[val_idx], label=y_train.iloc[val_idx])\n",
    "\n",
    "    # Training the data\n",
    "    print('Fold', str(fold_), 'started at', time.ctime())\n",
    "    num_round = 10000\n",
    "    clf1 = lgb.train(lgb_params, trn_data, num_round, valid_sets = [trn_data, val_data], verbose_eval=1000, early_stopping_rounds = 200)\n",
    "    oof_lgb1[val_idx] = clf1.predict(training_set.iloc[val_idx], num_iteration=clf1.best_iteration)\n",
    "    \n",
    "    # Keeping track of the importance of all the different features in the dataset.\n",
    "    fold_importance_df_lgb1 = pd.DataFrame()\n",
    "    fold_importance_df_lgb1[\"feature\"] = features_lgb\n",
    "    fold_importance_df_lgb1[\"importance\"] = clf1.feature_importance()\n",
    "    fold_importance_df_lgb1[\"fold\"] = fold_ + 1\n",
    "    feature_importance_df_lgb1 = pd.concat([feature_importance_df_lgb1, fold_importance_df_lgb1], axis=0)\n",
    "    \n",
    "    # Making prediction on the validation set\n",
    "    predictions_lgb1 += clf1.predict(test_set, num_iteration=clf1.best_iteration) / FOLDs.n_splits\n",
    "    \n",
    "# Printing the predictions and RMSE error of the model\n",
    "cv_results_lgb1 = np.sqrt(mean_squared_error(oof_lgb1, y_train))\n",
    "print(cv_results_lgb1)    "
   ]
  },
  {
   "cell_type": "markdown",
   "metadata": {},
   "source": [
    "**Feature Importance**"
   ]
  },
  {
   "cell_type": "code",
   "execution_count": 58,
   "metadata": {},
   "outputs": [
    {
     "name": "stderr",
     "output_type": "stream",
     "text": [
      "/Users/joelholla/anaconda/envs/pythonb/lib/python3.6/site-packages/scipy/stats/stats.py:1713: FutureWarning: Using a non-tuple sequence for multidimensional indexing is deprecated; use `arr[tuple(seq)]` instead of `arr[seq]`. In the future this will be interpreted as an array index, `arr[np.array(seq)]`, which will result either in an error or a different result.\n",
      "  return np.add.reduce(sorted[indexer] * weights, axis=axis) / sumval\n"
     ]
    },
    {
     "data": {
      "image/png": "[encoded data removed]",
      "text/plain": [
       "<Figure size 1008x1008 with 1 Axes>"
      ]
     },
     "metadata": {
      "needs_background": "light"
     },
     "output_type": "display_data"
    }
   ],
   "source": [
    "cols = (feature_importance_df_lgb1[[\"feature\", \"importance\"]]\n",
    "        .groupby(\"feature\")\n",
    "        .mean()\n",
    "        .sort_values(by=\"importance\", ascending=False)[:1000].index)\n",
    "\n",
    "best_features = feature_importance_df_lgb1.loc[feature_importance_df_lgb1.feature.isin(cols)]\n",
    "\n",
    "plt.figure(figsize=(14,14))\n",
    "sns.barplot(x=\"importance\",\n",
    "            y=\"feature\",\n",
    "            data=best_features.sort_values(by=\"importance\",\n",
    "                                           ascending=False))\n",
    "plt.title('LightGBM Features (avg over folds)')\n",
    "plt.tight_layout()\n",
    "plt.savefig('lgbm_importances.png')"
   ]
  },
  {
   "cell_type": "code",
   "execution_count": 59,
   "metadata": {},
   "outputs": [
    {
     "data": {
      "text/plain": [
       "(201917, 5)"
      ]
     },
     "execution_count": 59,
     "metadata": {},
     "output_type": "execute_result"
    }
   ],
   "source": [
    "# Reduced the feature to 5 most important features\n",
    "most_important_features = [col for col in training_set.columns if col in ['elasped_time', 'hist_purchase_date-ptp', \n",
    "                                                                          'hist_authorized_flag-mean', 'hist_purchase_amount-median',\n",
    "                                                                          'hist_installments-sum']]\n",
    "training_set = training_set[most_important_features]\n",
    "\n",
    "\n",
    "training_set.head()\n",
    "training_set.shape"
   ]
  },
  {
   "cell_type": "code",
   "execution_count": 60,
   "metadata": {},
   "outputs": [
    {
     "name": "stdout",
     "output_type": "stream",
     "text": [
      "Fold 0 started at Thu Dec 13 13:52:48 2018\n",
      "Training until validation scores don't improve for 200 rounds.\n",
      "Early stopping, best iteration is:\n",
      "[26]\ttraining's rmse: 3.74391\tvalid_1's rmse: 3.76007\n",
      "Fold 1 started at Thu Dec 13 13:52:50 2018\n",
      "Training until validation scores don't improve for 200 rounds.\n",
      "Early stopping, best iteration is:\n",
      "[36]\ttraining's rmse: 3.72243\tvalid_1's rmse: 3.82498\n",
      "Fold 2 started at Thu Dec 13 13:52:51 2018\n",
      "Training until validation scores don't improve for 200 rounds.\n",
      "Early stopping, best iteration is:\n",
      "[27]\ttraining's rmse: 3.7383\tvalid_1's rmse: 3.78634\n",
      "Fold 3 started at Thu Dec 13 13:52:52 2018\n",
      "Training until validation scores don't improve for 200 rounds.\n",
      "Early stopping, best iteration is:\n",
      "[24]\ttraining's rmse: 3.73605\tvalid_1's rmse: 3.8122\n",
      "Fold 4 started at Thu Dec 13 13:52:54 2018\n",
      "Training until validation scores don't improve for 200 rounds.\n",
      "Early stopping, best iteration is:\n",
      "[52]\ttraining's rmse: 3.72852\tvalid_1's rmse: 3.74055\n",
      "3.7849583283223325\n"
     ]
    }
   ],
   "source": [
    "# Making prediction using the tuned parameters found using GridSearchCV\n",
    "\n",
    "# Defining the tuned parameters that will be used in the LightGBM\n",
    "lgb_params = {\"objective\" : \"regression\", \"metric\" : \"rmse\", \n",
    "              \"max_depth\": 8, \"min_child_samples\": 20,\n",
    "              \"reg_alpha\": 0, \"reg_lambda\": 0,\n",
    "              \"num_leaves\" : 75, \"learning_rate\" : 0.1, \n",
    "              \"subsample\" : 0.5, \"colsample_bytree\" : 0.8, \n",
    "              \"verbosity\": -1, 'min_data_in_leaf': 150,\n",
    "              \"feature_fraction\": 1, \"bagging_feature\": 0.7,\n",
    "              \"lambda_l1\": 6}\n",
    "\n",
    "# Defining the parameters for the KFold cross validation that will be used\n",
    "FOLDs = KFold(n_splits=5, shuffle=True, random_state=187)\n",
    "\n",
    "# Creating a column of zeroes in the training and test sets that we will use for our predictions and validations set.\n",
    "oof_lgb1 = np.zeros(len(training_set))\n",
    "predictions_lgb1 = np.zeros(len(test_set))\n",
    "\n",
    "# Using a for loop to cycle through all combinations of the training and test splits\n",
    "for fold_, (trn_idx, val_idx) in enumerate(FOLDs.split(training_set)):\n",
    "    trn_data = lgb.Dataset(training_set.iloc[trn_idx], label=y_train.iloc[trn_idx])\n",
    "    val_data = lgb.Dataset(training_set.iloc[val_idx], label=y_train.iloc[val_idx])\n",
    "\n",
    "    # Training the data\n",
    "    print('Fold', str(fold_), 'started at', time.ctime())\n",
    "    num_round = 10000\n",
    "    clf1 = lgb.train(lgb_params, trn_data, num_round, valid_sets = [trn_data, val_data], verbose_eval=1000, early_stopping_rounds = 200)\n",
    "    oof_lgb1[val_idx] = clf1.predict(training_set.iloc[val_idx], num_iteration=clf1.best_iteration)\n",
    "    \n",
    "    # Making prediction on the validation set\n",
    "    predictions_lgb1 += clf1.predict(test_set, num_iteration=clf1.best_iteration) / FOLDs.n_splits\n",
    "    \n",
    "# Printing the predictions and RMSE error of the model\n",
    "cv_results_lgb1 = np.sqrt(mean_squared_error(oof_lgb1, y_train))\n",
    "print(cv_results_lgb1)"
   ]
  }
 ],
 "metadata": {
  "kernelspec": {
   "display_name": "Python 3",
   "language": "python",
   "name": "python3"
  },
  "language_info": {
   "codemirror_mode": {
    "name": "ipython",
    "version": 3
   },
   "file_extension": ".py",
   "mimetype": "text/x-python",
   "name": "python",
   "nbconvert_exporter": "python",
   "pygments_lexer": "ipython3",
   "version": "3.6.6"
  }
 },
 "nbformat": 4,
 "nbformat_minor": 1
}
